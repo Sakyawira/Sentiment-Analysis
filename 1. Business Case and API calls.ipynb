{
 "cells": [
  {
   "cell_type": "markdown",
   "metadata": {},
   "source": [
    "## Business Case\n",
    "My Business case is a particular game company wishes to investigate the popularity of Epic Games Store. The video game company plans to use the results of the investigation to inform future business decisions (whether they will make an exclusivity deal with Epic Games Store for their upcoming title). We approached the problem by analysing sentiments of posts in the Epic Games Store subreddit (r/EpicGamesPC: https://www.reddit.com/r/EpicGamesPC/ )."
   ]
  },
  {
   "cell_type": "code",
   "execution_count": 1,
   "metadata": {},
   "outputs": [],
   "source": [
    "import datetime\n",
    "\n",
    "import praw\n",
    "import pandas as pd\n",
    "\n",
    "from keys import client_id, client_secret\n",
    "\n",
    "from api_funcs import *"
   ]
  },
  {
   "cell_type": "markdown",
   "metadata": {},
   "source": [
    "### Collecting the posts for our topic"
   ]
  },
  {
   "cell_type": "markdown",
   "metadata": {},
   "source": [
    "Initializing a Reddit Instance"
   ]
  },
  {
   "cell_type": "code",
   "execution_count": 2,
   "metadata": {},
   "outputs": [],
   "source": [
    "reddit = praw.Reddit( client_id=client_id,\n",
    "                      client_secret=client_secret,\n",
    "                      user_agent='web-app:sentimentAnalysis:v1 (by /u/sakyawira)')"
   ]
  },
  {
   "cell_type": "markdown",
   "metadata": {},
   "source": [
    "Calling the API and building a dataframe from it"
   ]
  },
  {
   "cell_type": "code",
   "execution_count": 3,
   "metadata": {},
   "outputs": [],
   "source": [
    "posts = subreddit_posts('EpicGamesPC', 5000)"
   ]
  },
  {
   "cell_type": "code",
   "execution_count": 4,
   "metadata": {},
   "outputs": [
    {
     "data": {
      "text/html": [
       "<div>\n",
       "<style scoped>\n",
       "    .dataframe tbody tr th:only-of-type {\n",
       "        vertical-align: middle;\n",
       "    }\n",
       "\n",
       "    .dataframe tbody tr th {\n",
       "        vertical-align: top;\n",
       "    }\n",
       "\n",
       "    .dataframe thead th {\n",
       "        text-align: right;\n",
       "    }\n",
       "</style>\n",
       "<table border=\"1\" class=\"dataframe\">\n",
       "  <thead>\n",
       "    <tr style=\"text-align: right;\">\n",
       "      <th></th>\n",
       "      <th>Title</th>\n",
       "      <th>URL</th>\n",
       "      <th>Body</th>\n",
       "      <th>Upvotes</th>\n",
       "      <th>Time</th>\n",
       "      <th>Key</th>\n",
       "    </tr>\n",
       "  </thead>\n",
       "  <tbody>\n",
       "    <tr>\n",
       "      <th>0</th>\n",
       "      <td>enjoy the free game!</td>\n",
       "      <td>https://www.reddit.com/r/EpicGamesPC/comments/...</td>\n",
       "      <td></td>\n",
       "      <td>1449</td>\n",
       "      <td>2020-05-15 03:15:03</td>\n",
       "      <td>0</td>\n",
       "    </tr>\n",
       "    <tr>\n",
       "      <th>1</th>\n",
       "      <td>That time of the week again boys</td>\n",
       "      <td>https://www.reddit.com/r/EpicGamesPC/comments/...</td>\n",
       "      <td></td>\n",
       "      <td>1048</td>\n",
       "      <td>2020-05-22 04:34:25</td>\n",
       "      <td>1</td>\n",
       "    </tr>\n",
       "    <tr>\n",
       "      <th>2</th>\n",
       "      <td>Bonjour 🐻</td>\n",
       "      <td>https://www.reddit.com/r/EpicGamesPC/comments/...</td>\n",
       "      <td></td>\n",
       "      <td>856</td>\n",
       "      <td>2020-08-06 17:03:10</td>\n",
       "      <td>2</td>\n",
       "    </tr>\n",
       "  </tbody>\n",
       "</table>\n",
       "</div>"
      ],
      "text/plain": [
       "                              Title  \\\n",
       "0              enjoy the free game!   \n",
       "1  That time of the week again boys   \n",
       "2                         Bonjour 🐻   \n",
       "\n",
       "                                                 URL Body  Upvotes  \\\n",
       "0  https://www.reddit.com/r/EpicGamesPC/comments/...          1449   \n",
       "1  https://www.reddit.com/r/EpicGamesPC/comments/...          1048   \n",
       "2  https://www.reddit.com/r/EpicGamesPC/comments/...           856   \n",
       "\n",
       "                 Time  Key  \n",
       "0 2020-05-15 03:15:03    0  \n",
       "1 2020-05-22 04:34:25    1  \n",
       "2 2020-08-06 17:03:10    2  "
      ]
     },
     "execution_count": 4,
     "metadata": {},
     "output_type": "execute_result"
    }
   ],
   "source": [
    "posts.head(3)"
   ]
  },
  {
   "cell_type": "code",
   "execution_count": 5,
   "metadata": {},
   "outputs": [
    {
     "data": {
      "text/plain": [
       "(996, 6)"
      ]
     },
     "execution_count": 5,
     "metadata": {},
     "output_type": "execute_result"
    }
   ],
   "source": [
    "posts.shape"
   ]
  },
  {
   "cell_type": "markdown",
   "metadata": {},
   "source": [
    "### Collecting the comments for each of our posts"
   ]
  },
  {
   "cell_type": "markdown",
   "metadata": {},
   "source": [
    "We want to get all the comments for the posts we collected"
   ]
  },
  {
   "cell_type": "markdown",
   "metadata": {},
   "source": [
    "Now the function has been defined, we create our dataframe of comments. Using list comprehensions will speed things up slightly"
   ]
  },
  {
   "cell_type": "code",
   "execution_count": 6,
   "metadata": {},
   "outputs": [],
   "source": [
    "comments = replies_to_posts(posts)"
   ]
  },
  {
   "cell_type": "code",
   "execution_count": 7,
   "metadata": {},
   "outputs": [
    {
     "data": {
      "text/html": [
       "<div>\n",
       "<style scoped>\n",
       "    .dataframe tbody tr th:only-of-type {\n",
       "        vertical-align: middle;\n",
       "    }\n",
       "\n",
       "    .dataframe tbody tr th {\n",
       "        vertical-align: top;\n",
       "    }\n",
       "\n",
       "    .dataframe thead th {\n",
       "        text-align: right;\n",
       "    }\n",
       "</style>\n",
       "<table border=\"1\" class=\"dataframe\">\n",
       "  <thead>\n",
       "    <tr style=\"text-align: right;\">\n",
       "      <th></th>\n",
       "      <th>Reply</th>\n",
       "      <th>Upvote</th>\n",
       "      <th>Time</th>\n",
       "      <th>Key</th>\n",
       "    </tr>\n",
       "  </thead>\n",
       "  <tbody>\n",
       "    <tr>\n",
       "      <th>0</th>\n",
       "      <td>My game launcher turned Russian</td>\n",
       "      <td>59.0</td>\n",
       "      <td>2020-05-15 03:24:53</td>\n",
       "      <td>0.0</td>\n",
       "    </tr>\n",
       "    <tr>\n",
       "      <th>1</th>\n",
       "      <td>Every time I refresh my epic game launcher it ...</td>\n",
       "      <td>21.0</td>\n",
       "      <td>2020-05-15 03:44:36</td>\n",
       "      <td>0.0</td>\n",
       "    </tr>\n",
       "    <tr>\n",
       "      <th>2</th>\n",
       "      <td>Premium edition actually</td>\n",
       "      <td>9.0</td>\n",
       "      <td>2020-05-15 03:55:30</td>\n",
       "      <td>0.0</td>\n",
       "    </tr>\n",
       "    <tr>\n",
       "      <th>3</th>\n",
       "      <td>Downloading it even if my computer doesnt supp...</td>\n",
       "      <td>9.0</td>\n",
       "      <td>2020-05-15 05:29:58</td>\n",
       "      <td>0.0</td>\n",
       "    </tr>\n",
       "    <tr>\n",
       "      <th>4</th>\n",
       "      <td>Man the site crashing, changing language autom...</td>\n",
       "      <td>28.0</td>\n",
       "      <td>2020-05-15 03:34:30</td>\n",
       "      <td>0.0</td>\n",
       "    </tr>\n",
       "    <tr>\n",
       "      <th>...</th>\n",
       "      <td>...</td>\n",
       "      <td>...</td>\n",
       "      <td>...</td>\n",
       "      <td>...</td>\n",
       "    </tr>\n",
       "    <tr>\n",
       "      <th>233</th>\n",
       "      <td>Look like it just went free for today!</td>\n",
       "      <td>2.0</td>\n",
       "      <td>2019-12-25 09:07:13</td>\n",
       "      <td>8.0</td>\n",
       "    </tr>\n",
       "    <tr>\n",
       "      <th>234</th>\n",
       "      <td>I saw a :( so heres an :) hope your day is good</td>\n",
       "      <td>1.0</td>\n",
       "      <td>2020-01-15 01:17:54</td>\n",
       "      <td>8.0</td>\n",
       "    </tr>\n",
       "    <tr>\n",
       "      <th>235</th>\n",
       "      <td>hahah.  I'm intrigued lol but can't find it.  ...</td>\n",
       "      <td>1.0</td>\n",
       "      <td>2020-05-15 10:58:43</td>\n",
       "      <td>8.0</td>\n",
       "    </tr>\n",
       "    <tr>\n",
       "      <th>236</th>\n",
       "      <td>Okay? Go earn more money and pay for quality g...</td>\n",
       "      <td>1.0</td>\n",
       "      <td>2020-02-19 04:01:40</td>\n",
       "      <td>8.0</td>\n",
       "    </tr>\n",
       "    <tr>\n",
       "      <th>237</th>\n",
       "      <td>at work so my internet is \"blocked\" but I thin...</td>\n",
       "      <td>1.0</td>\n",
       "      <td>2019-12-31 08:43:04</td>\n",
       "      <td>8.0</td>\n",
       "    </tr>\n",
       "  </tbody>\n",
       "</table>\n",
       "<p>1000 rows × 4 columns</p>\n",
       "</div>"
      ],
      "text/plain": [
       "                                                 Reply  Upvote  \\\n",
       "0                      My game launcher turned Russian    59.0   \n",
       "1    Every time I refresh my epic game launcher it ...    21.0   \n",
       "2                             Premium edition actually     9.0   \n",
       "3    Downloading it even if my computer doesnt supp...     9.0   \n",
       "4    Man the site crashing, changing language autom...    28.0   \n",
       "..                                                 ...     ...   \n",
       "233             Look like it just went free for today!     2.0   \n",
       "234    I saw a :( so heres an :) hope your day is good     1.0   \n",
       "235  hahah.  I'm intrigued lol but can't find it.  ...     1.0   \n",
       "236  Okay? Go earn more money and pay for quality g...     1.0   \n",
       "237  at work so my internet is \"blocked\" but I thin...     1.0   \n",
       "\n",
       "                   Time  Key  \n",
       "0   2020-05-15 03:24:53  0.0  \n",
       "1   2020-05-15 03:44:36  0.0  \n",
       "2   2020-05-15 03:55:30  0.0  \n",
       "3   2020-05-15 05:29:58  0.0  \n",
       "4   2020-05-15 03:34:30  0.0  \n",
       "..                  ...  ...  \n",
       "233 2019-12-25 09:07:13  8.0  \n",
       "234 2020-01-15 01:17:54  8.0  \n",
       "235 2020-05-15 10:58:43  8.0  \n",
       "236 2020-02-19 04:01:40  8.0  \n",
       "237 2019-12-31 08:43:04  8.0  \n",
       "\n",
       "[1000 rows x 4 columns]"
      ]
     },
     "execution_count": 7,
     "metadata": {},
     "output_type": "execute_result"
    }
   ],
   "source": [
    "comments.head(1000)"
   ]
  },
  {
   "cell_type": "code",
   "execution_count": 8,
   "metadata": {},
   "outputs": [
    {
     "data": {
      "text/plain": [
       "(34367, 4)"
      ]
     },
     "execution_count": 8,
     "metadata": {},
     "output_type": "execute_result"
    }
   ],
   "source": [
    "comments.shape"
   ]
  },
  {
   "cell_type": "code",
   "execution_count": 9,
   "metadata": {},
   "outputs": [],
   "source": [
    "comments.to_csv('CommentsEpic.csv', index=False)"
   ]
  },
  {
   "cell_type": "code",
   "execution_count": 10,
   "metadata": {},
   "outputs": [],
   "source": [
    "posts.to_csv('PostsEpic.csv', index=False)"
   ]
  }
 ],
 "metadata": {
  "kernelspec": {
   "display_name": "Python 3",
   "language": "python",
   "name": "python3"
  },
  "language_info": {
   "codemirror_mode": {
    "name": "ipython",
    "version": 3
   },
   "file_extension": ".py",
   "mimetype": "text/x-python",
   "name": "python",
   "nbconvert_exporter": "python",
   "pygments_lexer": "ipython3",
   "version": "3.8.5"
  }
 },
 "nbformat": 4,
 "nbformat_minor": 4
}
