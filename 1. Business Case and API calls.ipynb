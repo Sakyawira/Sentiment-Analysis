{
 "cells": [
  {
   "cell_type": "markdown",
   "metadata": {},
   "source": [
    "## Business Case\n",
    "My Business case is a particular game company wishes to investigate the popularity of Epic Games Store. The video game company plans to use the results of the investigation to inform future business decisions (whether they will make an exclusivity deal with Epic Games Store for their upcoming title). We approached the problem by analysing sentiments of posts in the Epic Games Store subreddit (r/EpicGamesPC: https://www.reddit.com/r/EpicGamesPC/ )."
   ]
  },
  {
   "cell_type": "code",
   "execution_count": 1,
   "metadata": {},
   "outputs": [],
   "source": [
    "from api_funcs import *"
   ]
  },
  {
   "cell_type": "code",
   "execution_count": null,
   "metadata": {},
   "outputs": [],
   "source": []
  },
  {
   "cell_type": "code",
   "execution_count": null,
   "metadata": {},
   "outputs": [],
   "source": []
  },
  {
   "cell_type": "markdown",
   "metadata": {},
   "source": [
    "### Collecting the posts for our topic"
   ]
  },
  {
   "cell_type": "markdown",
   "metadata": {},
   "source": [
    "Calling the API and building a data-frame from it"
   ]
  },
  {
   "cell_type": "code",
   "execution_count": 2,
   "metadata": {},
   "outputs": [],
   "source": [
    "# Reddit limit their search to 1000 posts\n",
    "posts = subreddit_posts('EpicGamesPC', 2000)"
   ]
  },
  {
   "cell_type": "code",
   "execution_count": 3,
   "metadata": {},
   "outputs": [
    {
     "data": {
      "text/html": [
       "<div>\n",
       "<style scoped>\n",
       "    .dataframe tbody tr th:only-of-type {\n",
       "        vertical-align: middle;\n",
       "    }\n",
       "\n",
       "    .dataframe tbody tr th {\n",
       "        vertical-align: top;\n",
       "    }\n",
       "\n",
       "    .dataframe thead th {\n",
       "        text-align: right;\n",
       "    }\n",
       "</style>\n",
       "<table border=\"1\" class=\"dataframe\">\n",
       "  <thead>\n",
       "    <tr style=\"text-align: right;\">\n",
       "      <th></th>\n",
       "      <th>created_utc</th>\n",
       "      <th>full_link</th>\n",
       "      <th>selftext</th>\n",
       "      <th>title</th>\n",
       "      <th>upvote_ratio</th>\n",
       "      <th>created</th>\n",
       "      <th>Time</th>\n",
       "    </tr>\n",
       "  </thead>\n",
       "  <tbody>\n",
       "    <tr>\n",
       "      <th>0</th>\n",
       "      <td>1600369917</td>\n",
       "      <td>https://www.reddit.com/r/EpicGamesPC/comments/...</td>\n",
       "      <td>[removed]</td>\n",
       "      <td>Watchdogs 2 is of 62 GB?</td>\n",
       "      <td>1.0</td>\n",
       "      <td>1.600327e+09</td>\n",
       "      <td>2020-09-18 07:11:57</td>\n",
       "    </tr>\n",
       "    <tr>\n",
       "      <th>1</th>\n",
       "      <td>1600368806</td>\n",
       "      <td>https://www.reddit.com/r/EpicGamesPC/comments/...</td>\n",
       "      <td>[removed]</td>\n",
       "      <td>Can't launch games in offline mode</td>\n",
       "      <td>1.0</td>\n",
       "      <td>1.600326e+09</td>\n",
       "      <td>2020-09-18 06:53:26</td>\n",
       "    </tr>\n",
       "    <tr>\n",
       "      <th>2</th>\n",
       "      <td>1600364730</td>\n",
       "      <td>https://www.reddit.com/r/EpicGamesPC/comments/...</td>\n",
       "      <td>[removed]</td>\n",
       "      <td>Opening Watch_Dogs through Epic, without Uplay?</td>\n",
       "      <td>1.0</td>\n",
       "      <td>1.600322e+09</td>\n",
       "      <td>2020-09-18 05:45:30</td>\n",
       "    </tr>\n",
       "    <tr>\n",
       "      <th>3</th>\n",
       "      <td>1600363683</td>\n",
       "      <td>https://www.reddit.com/r/EpicGamesPC/comments/...</td>\n",
       "      <td>[removed]</td>\n",
       "      <td>So um</td>\n",
       "      <td>1.0</td>\n",
       "      <td>1.600320e+09</td>\n",
       "      <td>2020-09-18 05:28:03</td>\n",
       "    </tr>\n",
       "    <tr>\n",
       "      <th>4</th>\n",
       "      <td>1600362078</td>\n",
       "      <td>https://www.reddit.com/r/EpicGamesPC/comments/...</td>\n",
       "      <td>[removed]\\n\\n[View Poll](https://www.reddit.co...</td>\n",
       "      <td>How many of you guys have bought something on ...</td>\n",
       "      <td>1.0</td>\n",
       "      <td>1.600319e+09</td>\n",
       "      <td>2020-09-18 05:01:18</td>\n",
       "    </tr>\n",
       "    <tr>\n",
       "      <th>...</th>\n",
       "      <td>...</td>\n",
       "      <td>...</td>\n",
       "      <td>...</td>\n",
       "      <td>...</td>\n",
       "      <td>...</td>\n",
       "      <td>...</td>\n",
       "      <td>...</td>\n",
       "    </tr>\n",
       "    <tr>\n",
       "      <th>195</th>\n",
       "      <td>1599755360</td>\n",
       "      <td>https://www.reddit.com/r/EpicGamesPC/comments/...</td>\n",
       "      <td></td>\n",
       "      <td>Be careful with uninstalling EGS client. You c...</td>\n",
       "      <td>1.0</td>\n",
       "      <td>1.599712e+09</td>\n",
       "      <td>2020-09-11 04:29:20</td>\n",
       "    </tr>\n",
       "    <tr>\n",
       "      <th>196</th>\n",
       "      <td>1599754999</td>\n",
       "      <td>https://www.reddit.com/r/EpicGamesPC/comments/...</td>\n",
       "      <td>I wanted to download the update, and now it's ...</td>\n",
       "      <td>A fortnite update stuck on \"please wait\"</td>\n",
       "      <td>1.0</td>\n",
       "      <td>1.599712e+09</td>\n",
       "      <td>2020-09-11 04:23:19</td>\n",
       "    </tr>\n",
       "    <tr>\n",
       "      <th>197</th>\n",
       "      <td>1599754729</td>\n",
       "      <td>https://www.reddit.com/r/EpicGamesPC/comments/...</td>\n",
       "      <td>[https://www.epicgames.com/store/en-US/product...</td>\n",
       "      <td>As Far As The Eye and The Unfinished Swan are ...</td>\n",
       "      <td>1.0</td>\n",
       "      <td>1.599712e+09</td>\n",
       "      <td>2020-09-11 04:18:49</td>\n",
       "    </tr>\n",
       "    <tr>\n",
       "      <th>198</th>\n",
       "      <td>1599754241</td>\n",
       "      <td>https://www.reddit.com/r/EpicGamesPC/comments/...</td>\n",
       "      <td></td>\n",
       "      <td>Wanted to update gta5 but got fault code IS-MF...</td>\n",
       "      <td>1.0</td>\n",
       "      <td>1.599711e+09</td>\n",
       "      <td>2020-09-11 04:10:41</td>\n",
       "    </tr>\n",
       "    <tr>\n",
       "      <th>199</th>\n",
       "      <td>1599753077</td>\n",
       "      <td>https://www.reddit.com/r/EpicGamesPC/comments/...</td>\n",
       "      <td>[removed]</td>\n",
       "      <td>Epic games launcher issues</td>\n",
       "      <td>1.0</td>\n",
       "      <td>1.599710e+09</td>\n",
       "      <td>2020-09-11 03:51:17</td>\n",
       "    </tr>\n",
       "  </tbody>\n",
       "</table>\n",
       "<p>200 rows × 7 columns</p>\n",
       "</div>"
      ],
      "text/plain": [
       "     created_utc                                          full_link  \\\n",
       "0     1600369917  https://www.reddit.com/r/EpicGamesPC/comments/...   \n",
       "1     1600368806  https://www.reddit.com/r/EpicGamesPC/comments/...   \n",
       "2     1600364730  https://www.reddit.com/r/EpicGamesPC/comments/...   \n",
       "3     1600363683  https://www.reddit.com/r/EpicGamesPC/comments/...   \n",
       "4     1600362078  https://www.reddit.com/r/EpicGamesPC/comments/...   \n",
       "..           ...                                                ...   \n",
       "195   1599755360  https://www.reddit.com/r/EpicGamesPC/comments/...   \n",
       "196   1599754999  https://www.reddit.com/r/EpicGamesPC/comments/...   \n",
       "197   1599754729  https://www.reddit.com/r/EpicGamesPC/comments/...   \n",
       "198   1599754241  https://www.reddit.com/r/EpicGamesPC/comments/...   \n",
       "199   1599753077  https://www.reddit.com/r/EpicGamesPC/comments/...   \n",
       "\n",
       "                                              selftext  \\\n",
       "0                                            [removed]   \n",
       "1                                            [removed]   \n",
       "2                                            [removed]   \n",
       "3                                            [removed]   \n",
       "4    [removed]\\n\\n[View Poll](https://www.reddit.co...   \n",
       "..                                                 ...   \n",
       "195                                                      \n",
       "196  I wanted to download the update, and now it's ...   \n",
       "197  [https://www.epicgames.com/store/en-US/product...   \n",
       "198                                                      \n",
       "199                                          [removed]   \n",
       "\n",
       "                                                 title  upvote_ratio  \\\n",
       "0                             Watchdogs 2 is of 62 GB?           1.0   \n",
       "1                   Can't launch games in offline mode           1.0   \n",
       "2      Opening Watch_Dogs through Epic, without Uplay?           1.0   \n",
       "3                                                So um           1.0   \n",
       "4    How many of you guys have bought something on ...           1.0   \n",
       "..                                                 ...           ...   \n",
       "195  Be careful with uninstalling EGS client. You c...           1.0   \n",
       "196           A fortnite update stuck on \"please wait\"           1.0   \n",
       "197  As Far As The Eye and The Unfinished Swan are ...           1.0   \n",
       "198  Wanted to update gta5 but got fault code IS-MF...           1.0   \n",
       "199                         Epic games launcher issues           1.0   \n",
       "\n",
       "          created                Time  \n",
       "0    1.600327e+09 2020-09-18 07:11:57  \n",
       "1    1.600326e+09 2020-09-18 06:53:26  \n",
       "2    1.600322e+09 2020-09-18 05:45:30  \n",
       "3    1.600320e+09 2020-09-18 05:28:03  \n",
       "4    1.600319e+09 2020-09-18 05:01:18  \n",
       "..            ...                 ...  \n",
       "195  1.599712e+09 2020-09-11 04:29:20  \n",
       "196  1.599712e+09 2020-09-11 04:23:19  \n",
       "197  1.599712e+09 2020-09-11 04:18:49  \n",
       "198  1.599711e+09 2020-09-11 04:10:41  \n",
       "199  1.599710e+09 2020-09-11 03:51:17  \n",
       "\n",
       "[200 rows x 7 columns]"
      ]
     },
     "execution_count": 3,
     "metadata": {},
     "output_type": "execute_result"
    }
   ],
   "source": [
    "posts"
   ]
  },
  {
   "cell_type": "code",
   "execution_count": 4,
   "metadata": {},
   "outputs": [],
   "source": [
    "posts.columns = posts.columns.str.replace('full_link','URL')\n"
   ]
  },
  {
   "cell_type": "markdown",
   "metadata": {},
   "source": [
    "### Collecting the comments for each of our posts"
   ]
  },
  {
   "cell_type": "markdown",
   "metadata": {},
   "source": [
    "We want to get all the comments for the posts we collected"
   ]
  },
  {
   "cell_type": "markdown",
   "metadata": {},
   "source": [
    "Now the function has been defined, we create our dataframe of comments. Using list comprehensions will speed things up slightly"
   ]
  },
  {
   "cell_type": "code",
   "execution_count": null,
   "metadata": {},
   "outputs": [],
   "source": [
    "comments = replies_to_posts(posts)"
   ]
  },
  {
   "cell_type": "code",
   "execution_count": null,
   "metadata": {},
   "outputs": [],
   "source": [
    "comments.head(1000)"
   ]
  },
  {
   "cell_type": "code",
   "execution_count": null,
   "metadata": {},
   "outputs": [],
   "source": [
    "comments.shape"
   ]
  },
  {
   "cell_type": "code",
   "execution_count": null,
   "metadata": {},
   "outputs": [],
   "source": [
    "comments.to_csv('CommentsEpic.csv', index=False)"
   ]
  },
  {
   "cell_type": "code",
   "execution_count": null,
   "metadata": {},
   "outputs": [],
   "source": [
    "posts.to_csv('PostsEpic.csv', index=False)"
   ]
  }
 ],
 "metadata": {
  "kernelspec": {
   "display_name": "Python 3",
   "language": "python",
   "name": "python3"
  },
  "language_info": {
   "codemirror_mode": {
    "name": "ipython",
    "version": 3
   },
   "file_extension": ".py",
   "mimetype": "text/x-python",
   "name": "python",
   "nbconvert_exporter": "python",
   "pygments_lexer": "ipython3",
   "version": "3.8.5"
  }
 },
 "nbformat": 4,
 "nbformat_minor": 4
}
