{
 "cells": [
  {
   "cell_type": "markdown",
   "metadata": {},
   "source": [
    "## Business Case\n",
    "My Business case is a particular game company wishes to investigate the popularity of Epic Games Store. The video game company plans to use the results of the investigation to inform future business decisions (whether they will make an exclusivity deal with Epic Games Store for their upcoming title). We approached the problem by analysing sentiments of posts in the Epic Games Store subreddit (r/EpicGamesPC: https://www.reddit.com/r/EpicGamesPC/ )."
   ]
  },
  {
   "cell_type": "code",
   "execution_count": 1,
   "metadata": {},
   "outputs": [],
   "source": [
    "from api_funcs import *"
   ]
  },
  {
   "cell_type": "markdown",
   "metadata": {},
   "source": [
    "### Collecting the posts for our topic"
   ]
  },
  {
   "cell_type": "markdown",
   "metadata": {},
   "source": [
    "Calling the API and building a data-frame from it"
   ]
  },
  {
   "cell_type": "code",
   "execution_count": 2,
   "metadata": {},
   "outputs": [],
   "source": [
    "# New implemetation that can bypass the 1000 entries limit\n",
    "posts = subreddit_posts('EpicGamesPC')"
   ]
  },
  {
   "cell_type": "code",
   "execution_count": 3,
   "metadata": {},
   "outputs": [
    {
     "data": {
      "text/html": [
       "<div>\n",
       "<style scoped>\n",
       "    .dataframe tbody tr th:only-of-type {\n",
       "        vertical-align: middle;\n",
       "    }\n",
       "\n",
       "    .dataframe tbody tr th {\n",
       "        vertical-align: top;\n",
       "    }\n",
       "\n",
       "    .dataframe thead th {\n",
       "        text-align: right;\n",
       "    }\n",
       "</style>\n",
       "<table border=\"1\" class=\"dataframe\">\n",
       "  <thead>\n",
       "    <tr style=\"text-align: right;\">\n",
       "      <th></th>\n",
       "      <th>created_utc</th>\n",
       "      <th>full_link</th>\n",
       "      <th>selftext</th>\n",
       "      <th>title</th>\n",
       "      <th>upvote_ratio</th>\n",
       "      <th>created</th>\n",
       "      <th>Time</th>\n",
       "    </tr>\n",
       "  </thead>\n",
       "  <tbody>\n",
       "    <tr>\n",
       "      <th>0</th>\n",
       "      <td>1600371324</td>\n",
       "      <td>https://www.reddit.com/r/EpicGamesPC/comments/...</td>\n",
       "      <td>[removed]</td>\n",
       "      <td>Store won't download</td>\n",
       "      <td>1.0</td>\n",
       "      <td>1.600328e+09</td>\n",
       "      <td>2020-09-18 07:35:24</td>\n",
       "    </tr>\n",
       "    <tr>\n",
       "      <th>1</th>\n",
       "      <td>1600369917</td>\n",
       "      <td>https://www.reddit.com/r/EpicGamesPC/comments/...</td>\n",
       "      <td>[removed]</td>\n",
       "      <td>Watchdogs 2 is of 62 GB?</td>\n",
       "      <td>1.0</td>\n",
       "      <td>1.600327e+09</td>\n",
       "      <td>2020-09-18 07:11:57</td>\n",
       "    </tr>\n",
       "    <tr>\n",
       "      <th>2</th>\n",
       "      <td>1600368806</td>\n",
       "      <td>https://www.reddit.com/r/EpicGamesPC/comments/...</td>\n",
       "      <td>[removed]</td>\n",
       "      <td>Can't launch games in offline mode</td>\n",
       "      <td>1.0</td>\n",
       "      <td>1.600326e+09</td>\n",
       "      <td>2020-09-18 06:53:26</td>\n",
       "    </tr>\n",
       "    <tr>\n",
       "      <th>3</th>\n",
       "      <td>1600364730</td>\n",
       "      <td>https://www.reddit.com/r/EpicGamesPC/comments/...</td>\n",
       "      <td>[removed]</td>\n",
       "      <td>Opening Watch_Dogs through Epic, without Uplay?</td>\n",
       "      <td>1.0</td>\n",
       "      <td>1.600322e+09</td>\n",
       "      <td>2020-09-18 05:45:30</td>\n",
       "    </tr>\n",
       "    <tr>\n",
       "      <th>4</th>\n",
       "      <td>1600363683</td>\n",
       "      <td>https://www.reddit.com/r/EpicGamesPC/comments/...</td>\n",
       "      <td>[removed]</td>\n",
       "      <td>So um</td>\n",
       "      <td>1.0</td>\n",
       "      <td>1.600320e+09</td>\n",
       "      <td>2020-09-18 05:28:03</td>\n",
       "    </tr>\n",
       "    <tr>\n",
       "      <th>...</th>\n",
       "      <td>...</td>\n",
       "      <td>...</td>\n",
       "      <td>...</td>\n",
       "      <td>...</td>\n",
       "      <td>...</td>\n",
       "      <td>...</td>\n",
       "      <td>...</td>\n",
       "    </tr>\n",
       "    <tr>\n",
       "      <th>9722</th>\n",
       "      <td>1548958604</td>\n",
       "      <td>https://www.reddit.com/r/EpicGamesPC/comments/...</td>\n",
       "      <td></td>\n",
       "      <td>Epic Games is refunding differences on price a...</td>\n",
       "      <td>NaN</td>\n",
       "      <td>1.548915e+09</td>\n",
       "      <td>2019-02-01 07:16:44</td>\n",
       "    </tr>\n",
       "    <tr>\n",
       "      <th>9723</th>\n",
       "      <td>1548948393</td>\n",
       "      <td>https://www.reddit.com/r/EpicGamesPC/comments/...</td>\n",
       "      <td></td>\n",
       "      <td>Epic Games Store Regional Pricing Now Availabl...</td>\n",
       "      <td>NaN</td>\n",
       "      <td>1.548905e+09</td>\n",
       "      <td>2019-02-01 04:26:33</td>\n",
       "    </tr>\n",
       "    <tr>\n",
       "      <th>9724</th>\n",
       "      <td>1548947002</td>\n",
       "      <td>https://www.reddit.com/r/EpicGamesPC/comments/...</td>\n",
       "      <td></td>\n",
       "      <td>'Metro' Creator Comments on 'Metro Exodus' Mov...</td>\n",
       "      <td>NaN</td>\n",
       "      <td>1.548904e+09</td>\n",
       "      <td>2019-02-01 04:03:22</td>\n",
       "    </tr>\n",
       "    <tr>\n",
       "      <th>9725</th>\n",
       "      <td>1548946975</td>\n",
       "      <td>https://www.reddit.com/r/EpicGamesPC/comments/...</td>\n",
       "      <td></td>\n",
       "      <td>All Dauntless accounts will be converted into ...</td>\n",
       "      <td>NaN</td>\n",
       "      <td>1.548904e+09</td>\n",
       "      <td>2019-02-01 04:02:55</td>\n",
       "    </tr>\n",
       "    <tr>\n",
       "      <th>9726</th>\n",
       "      <td>1548893589</td>\n",
       "      <td>https://www.reddit.com/r/EpicGamesPC/comments/...</td>\n",
       "      <td></td>\n",
       "      <td>Subnautica Below Zero Now available on Epic Ga...</td>\n",
       "      <td>NaN</td>\n",
       "      <td>1.548850e+09</td>\n",
       "      <td>2019-01-31 13:13:09</td>\n",
       "    </tr>\n",
       "  </tbody>\n",
       "</table>\n",
       "<p>9727 rows × 7 columns</p>\n",
       "</div>"
      ],
      "text/plain": [
       "      created_utc                                          full_link  \\\n",
       "0      1600371324  https://www.reddit.com/r/EpicGamesPC/comments/...   \n",
       "1      1600369917  https://www.reddit.com/r/EpicGamesPC/comments/...   \n",
       "2      1600368806  https://www.reddit.com/r/EpicGamesPC/comments/...   \n",
       "3      1600364730  https://www.reddit.com/r/EpicGamesPC/comments/...   \n",
       "4      1600363683  https://www.reddit.com/r/EpicGamesPC/comments/...   \n",
       "...           ...                                                ...   \n",
       "9722   1548958604  https://www.reddit.com/r/EpicGamesPC/comments/...   \n",
       "9723   1548948393  https://www.reddit.com/r/EpicGamesPC/comments/...   \n",
       "9724   1548947002  https://www.reddit.com/r/EpicGamesPC/comments/...   \n",
       "9725   1548946975  https://www.reddit.com/r/EpicGamesPC/comments/...   \n",
       "9726   1548893589  https://www.reddit.com/r/EpicGamesPC/comments/...   \n",
       "\n",
       "       selftext                                              title  \\\n",
       "0     [removed]                               Store won't download   \n",
       "1     [removed]                           Watchdogs 2 is of 62 GB?   \n",
       "2     [removed]                 Can't launch games in offline mode   \n",
       "3     [removed]    Opening Watch_Dogs through Epic, without Uplay?   \n",
       "4     [removed]                                              So um   \n",
       "...         ...                                                ...   \n",
       "9722             Epic Games is refunding differences on price a...   \n",
       "9723             Epic Games Store Regional Pricing Now Availabl...   \n",
       "9724             'Metro' Creator Comments on 'Metro Exodus' Mov...   \n",
       "9725             All Dauntless accounts will be converted into ...   \n",
       "9726             Subnautica Below Zero Now available on Epic Ga...   \n",
       "\n",
       "      upvote_ratio       created                Time  \n",
       "0              1.0  1.600328e+09 2020-09-18 07:35:24  \n",
       "1              1.0  1.600327e+09 2020-09-18 07:11:57  \n",
       "2              1.0  1.600326e+09 2020-09-18 06:53:26  \n",
       "3              1.0  1.600322e+09 2020-09-18 05:45:30  \n",
       "4              1.0  1.600320e+09 2020-09-18 05:28:03  \n",
       "...            ...           ...                 ...  \n",
       "9722           NaN  1.548915e+09 2019-02-01 07:16:44  \n",
       "9723           NaN  1.548905e+09 2019-02-01 04:26:33  \n",
       "9724           NaN  1.548904e+09 2019-02-01 04:03:22  \n",
       "9725           NaN  1.548904e+09 2019-02-01 04:02:55  \n",
       "9726           NaN  1.548850e+09 2019-01-31 13:13:09  \n",
       "\n",
       "[9727 rows x 7 columns]"
      ]
     },
     "execution_count": 3,
     "metadata": {},
     "output_type": "execute_result"
    }
   ],
   "source": [
    "posts"
   ]
  },
  {
   "cell_type": "code",
   "execution_count": 4,
   "metadata": {},
   "outputs": [],
   "source": [
    "posts.columns = posts.columns.str.replace('full_link','URL')\n"
   ]
  },
  {
   "cell_type": "markdown",
   "metadata": {},
   "source": [
    "### Collecting the comments for each of our posts"
   ]
  },
  {
   "cell_type": "markdown",
   "metadata": {},
   "source": [
    "We want to get all the comments for the posts we collected"
   ]
  },
  {
   "cell_type": "markdown",
   "metadata": {},
   "source": [
    "Now the function has been defined, we create our dataframe of comments. Using list comprehensions will speed things up slightly"
   ]
  },
  {
   "cell_type": "code",
   "execution_count": 5,
   "metadata": {},
   "outputs": [],
   "source": [
    "comments = replies_to_posts(posts)"
   ]
  },
  {
   "cell_type": "code",
   "execution_count": 6,
   "metadata": {},
   "outputs": [
    {
     "data": {
      "text/html": [
       "<div>\n",
       "<style scoped>\n",
       "    .dataframe tbody tr th:only-of-type {\n",
       "        vertical-align: middle;\n",
       "    }\n",
       "\n",
       "    .dataframe tbody tr th {\n",
       "        vertical-align: top;\n",
       "    }\n",
       "\n",
       "    .dataframe thead th {\n",
       "        text-align: right;\n",
       "    }\n",
       "</style>\n",
       "<table border=\"1\" class=\"dataframe\">\n",
       "  <thead>\n",
       "    <tr style=\"text-align: right;\">\n",
       "      <th></th>\n",
       "      <th>Reply</th>\n",
       "      <th>Upvote</th>\n",
       "      <th>Time</th>\n",
       "      <th>Key</th>\n",
       "    </tr>\n",
       "  </thead>\n",
       "  <tbody>\n",
       "    <tr>\n",
       "      <th>0</th>\n",
       "      <td>Tech support questions are no longer allowed t...</td>\n",
       "      <td>1.0</td>\n",
       "      <td>2020-09-18 06:54:15</td>\n",
       "      <td>2.0</td>\n",
       "    </tr>\n",
       "    <tr>\n",
       "      <th>0</th>\n",
       "      <td>Tech support questions are no longer allowed t...</td>\n",
       "      <td>1.0</td>\n",
       "      <td>2020-09-18 06:54:26</td>\n",
       "      <td>3.0</td>\n",
       "    </tr>\n",
       "    <tr>\n",
       "      <th>0</th>\n",
       "      <td>Tech support questions are no longer allowed t...</td>\n",
       "      <td>1.0</td>\n",
       "      <td>2020-09-18 06:08:45</td>\n",
       "      <td>4.0</td>\n",
       "    </tr>\n",
       "    <tr>\n",
       "      <th>0</th>\n",
       "      <td>I'm a regular shopper, my guess little over $6...</td>\n",
       "      <td>2.0</td>\n",
       "      <td>2020-09-18 06:16:40</td>\n",
       "      <td>5.0</td>\n",
       "    </tr>\n",
       "    <tr>\n",
       "      <th>1</th>\n",
       "      <td>I started using epic games launcher before the...</td>\n",
       "      <td>1.0</td>\n",
       "      <td>2020-09-18 06:18:07</td>\n",
       "      <td>5.0</td>\n",
       "    </tr>\n",
       "    <tr>\n",
       "      <th>...</th>\n",
       "      <td>...</td>\n",
       "      <td>...</td>\n",
       "      <td>...</td>\n",
       "      <td>...</td>\n",
       "    </tr>\n",
       "    <tr>\n",
       "      <th>9</th>\n",
       "      <td>I'm thinking about getting it! But I heard the...</td>\n",
       "      <td>1.0</td>\n",
       "      <td>2020-09-12 20:29:48</td>\n",
       "      <td>189.0</td>\n",
       "    </tr>\n",
       "    <tr>\n",
       "      <th>10</th>\n",
       "      <td>Which one though 5 or 6</td>\n",
       "      <td>2.0</td>\n",
       "      <td>2020-09-11 09:07:36</td>\n",
       "      <td>189.0</td>\n",
       "    </tr>\n",
       "    <tr>\n",
       "      <th>11</th>\n",
       "      <td>For price as cheap as possible, as for the gen...</td>\n",
       "      <td>2.0</td>\n",
       "      <td>2020-09-12 08:43:51</td>\n",
       "      <td>189.0</td>\n",
       "    </tr>\n",
       "    <tr>\n",
       "      <th>12</th>\n",
       "      <td>If you have claimed civ 6 for free, gathering ...</td>\n",
       "      <td>4.0</td>\n",
       "      <td>2020-09-11 07:01:45</td>\n",
       "      <td>189.0</td>\n",
       "    </tr>\n",
       "    <tr>\n",
       "      <th>13</th>\n",
       "      <td>I got a brief look onto games that are offered...</td>\n",
       "      <td>2.0</td>\n",
       "      <td>2020-09-12 09:14:29</td>\n",
       "      <td>189.0</td>\n",
       "    </tr>\n",
       "  </tbody>\n",
       "</table>\n",
       "<p>1000 rows × 4 columns</p>\n",
       "</div>"
      ],
      "text/plain": [
       "                                                Reply  Upvote  \\\n",
       "0   Tech support questions are no longer allowed t...     1.0   \n",
       "0   Tech support questions are no longer allowed t...     1.0   \n",
       "0   Tech support questions are no longer allowed t...     1.0   \n",
       "0   I'm a regular shopper, my guess little over $6...     2.0   \n",
       "1   I started using epic games launcher before the...     1.0   \n",
       "..                                                ...     ...   \n",
       "9   I'm thinking about getting it! But I heard the...     1.0   \n",
       "10                            Which one though 5 or 6     2.0   \n",
       "11  For price as cheap as possible, as for the gen...     2.0   \n",
       "12  If you have claimed civ 6 for free, gathering ...     4.0   \n",
       "13  I got a brief look onto games that are offered...     2.0   \n",
       "\n",
       "                  Time    Key  \n",
       "0  2020-09-18 06:54:15    2.0  \n",
       "0  2020-09-18 06:54:26    3.0  \n",
       "0  2020-09-18 06:08:45    4.0  \n",
       "0  2020-09-18 06:16:40    5.0  \n",
       "1  2020-09-18 06:18:07    5.0  \n",
       "..                 ...    ...  \n",
       "9  2020-09-12 20:29:48  189.0  \n",
       "10 2020-09-11 09:07:36  189.0  \n",
       "11 2020-09-12 08:43:51  189.0  \n",
       "12 2020-09-11 07:01:45  189.0  \n",
       "13 2020-09-12 09:14:29  189.0  \n",
       "\n",
       "[1000 rows x 4 columns]"
      ]
     },
     "execution_count": 6,
     "metadata": {},
     "output_type": "execute_result"
    }
   ],
   "source": [
    "comments.head(1000)"
   ]
  },
  {
   "cell_type": "code",
   "execution_count": 7,
   "metadata": {},
   "outputs": [
    {
     "data": {
      "text/plain": [
       "(64311, 4)"
      ]
     },
     "execution_count": 7,
     "metadata": {},
     "output_type": "execute_result"
    }
   ],
   "source": [
    "comments.shape"
   ]
  },
  {
   "cell_type": "code",
   "execution_count": 8,
   "metadata": {},
   "outputs": [],
   "source": [
    "comments.to_csv('CommentsEpic.csv', index=False)"
   ]
  },
  {
   "cell_type": "code",
   "execution_count": 9,
   "metadata": {},
   "outputs": [],
   "source": [
    "posts.to_csv('PostsEpic.csv', index=False)"
   ]
  }
 ],
 "metadata": {
  "kernelspec": {
   "display_name": "Python 3",
   "language": "python",
   "name": "python3"
  },
  "language_info": {
   "codemirror_mode": {
    "name": "ipython",
    "version": 3
   },
   "file_extension": ".py",
   "mimetype": "text/x-python",
   "name": "python",
   "nbconvert_exporter": "python",
   "pygments_lexer": "ipython3",
   "version": "3.8.5"
  }
 },
 "nbformat": 4,
 "nbformat_minor": 4
}
