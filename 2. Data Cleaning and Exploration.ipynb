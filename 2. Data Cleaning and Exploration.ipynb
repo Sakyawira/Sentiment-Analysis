{
 "cells": [
  {
   "cell_type": "code",
   "execution_count": 1,
   "metadata": {},
   "outputs": [
    {
     "name": "stderr",
     "output_type": "stream",
     "text": [
      "[nltk_data] Downloading package punkt to\n",
      "[nltk_data]     C:\\Users\\sakya\\AppData\\Roaming\\nltk_data...\n",
      "[nltk_data]   Package punkt is already up-to-date!\n"
     ]
    },
    {
     "data": {
      "text/plain": [
       "True"
      ]
     },
     "execution_count": 1,
     "metadata": {},
     "output_type": "execute_result"
    }
   ],
   "source": [
    "import re\n",
    "\n",
    "import pandas as pd\n",
    "import nltk\n",
    "nltk.download('punkt')"
   ]
  },
  {
   "cell_type": "code",
   "execution_count": 2,
   "metadata": {},
   "outputs": [],
   "source": [
    "comments = pd.read_csv('CommentsEpic.csv')"
   ]
  },
  {
   "cell_type": "markdown",
   "metadata": {},
   "source": [
    "## Data Cleaning and Exploration"
   ]
  },
  {
   "cell_type": "code",
   "execution_count": 3,
   "metadata": {},
   "outputs": [
    {
     "data": {
      "text/plain": [
       "'Sorry, I am new to the site, can I ask a question?\\n\\nDo we get to keep the game after May 21?'"
      ]
     },
     "execution_count": 3,
     "metadata": {},
     "output_type": "execute_result"
    }
   ],
   "source": [
    "sample = comments.Reply.iloc[10]\n",
    "sample"
   ]
  },
  {
   "cell_type": "code",
   "execution_count": 4,
   "metadata": {
    "scrolled": true
   },
   "outputs": [
    {
     "data": {
      "text/plain": [
       "'Sorry, I am new to the site, can I ask a question?\\n\\nDo we get to keep the game after May 21?'"
      ]
     },
     "execution_count": 4,
     "metadata": {},
     "output_type": "execute_result"
    }
   ],
   "source": [
    "re.sub(r'\\(?http\\S+', '', sample)"
   ]
  },
  {
   "cell_type": "markdown",
   "metadata": {},
   "source": [
    "Getting rid of \\n, \\t... etc characters that does not help with prediction but might link 2 words together and make them indistinguishable from one another"
   ]
  },
  {
   "cell_type": "code",
   "execution_count": 5,
   "metadata": {},
   "outputs": [
    {
     "data": {
      "text/plain": [
       "'Thats so damn right xD'"
      ]
     },
     "execution_count": 5,
     "metadata": {},
     "output_type": "execute_result"
    }
   ],
   "source": [
    "sample = comments.Reply.iloc[9]\n",
    "sample"
   ]
  },
  {
   "cell_type": "code",
   "execution_count": 6,
   "metadata": {},
   "outputs": [
    {
     "data": {
      "text/plain": [
       "['Thats', 'so', 'damn', 'right', 'xD']"
      ]
     },
     "execution_count": 6,
     "metadata": {},
     "output_type": "execute_result"
    }
   ],
   "source": [
    "word_tokenized = nltk.word_tokenize(sample)\n",
    "word_tokenized"
   ]
  },
  {
   "cell_type": "code",
   "execution_count": 7,
   "metadata": {},
   "outputs": [
    {
     "data": {
      "text/plain": [
       "'Thats so damn right xD'"
      ]
     },
     "execution_count": 7,
     "metadata": {},
     "output_type": "execute_result"
    }
   ],
   "source": [
    "' '.join(word_tokenized)"
   ]
  },
  {
   "cell_type": "markdown",
   "metadata": {},
   "source": [
    "#### Bigrams"
   ]
  },
  {
   "cell_type": "code",
   "execution_count": 8,
   "metadata": {},
   "outputs": [],
   "source": [
    "sample = ['Epic', 'Games', 'Store', 'is', 'an', 'Epic', 'Games', 'store']"
   ]
  },
  {
   "cell_type": "code",
   "execution_count": 9,
   "metadata": {},
   "outputs": [
    {
     "name": "stdout",
     "output_type": "stream",
     "text": [
      "[('Epic', 'Games')]\n"
     ]
    }
   ],
   "source": [
    "from nltk.collocations import *\n",
    "\n",
    "bigram_measures = nltk.collocations.BigramAssocMeasures()\n",
    "\n",
    "finder = BigramCollocationFinder.from_words(sample)\n",
    "\n",
    "# Find bigrams that appear 2+ times\n",
    "finder.apply_freq_filter(2) \n",
    "\n",
    "# Return the 10 n-grams with the highest PMI\n",
    "print (finder.nbest(bigram_measures.pmi, 10) )"
   ]
  },
  {
   "cell_type": "markdown",
   "metadata": {},
   "source": [
    "Let's try it on first 10000 rows of our text"
   ]
  },
  {
   "cell_type": "code",
   "execution_count": 10,
   "metadata": {},
   "outputs": [],
   "source": [
    "all_text = comments.iloc[:10000,:].Reply.str.cat(sep='. ')"
   ]
  },
  {
   "cell_type": "code",
   "execution_count": 11,
   "metadata": {},
   "outputs": [],
   "source": [
    "all_text = nltk.word_tokenize(all_text)"
   ]
  },
  {
   "cell_type": "code",
   "execution_count": 12,
   "metadata": {},
   "outputs": [
    {
     "name": "stdout",
     "output_type": "stream",
     "text": [
      "[('OTHERS', 'CLICKED'), ('Starter', 'Pack'), ('Theft', 'Auto'), ('Rocket', 'League'), ('Grand', 'Theft'), ('Criminal', 'Enterprise'), ('task', 'manager'), ('CLICKED', 'THIS'), ('shopping', 'cart'), ('Watch', 'Dogs')]\n"
     ]
    }
   ],
   "source": [
    "def common_bigrams(tokenized_text, min_freq, top_n):\n",
    "    bigram_measures = nltk.collocations.BigramAssocMeasures()\n",
    "    finder = BigramCollocationFinder.from_words(tokenized_text)\n",
    "    finder.apply_freq_filter(min_freq) \n",
    "    finder.nbest(bigram_measures.pmi, top_n)\n",
    "    return finder.nbest(bigram_measures.pmi, top_n)\n",
    "\n",
    "print(common_bigrams(all_text, 10, 10))"
   ]
  },
  {
   "cell_type": "markdown",
   "metadata": {},
   "source": [
    "#### Wordcloud"
   ]
  },
  {
   "cell_type": "code",
   "execution_count": 13,
   "metadata": {},
   "outputs": [],
   "source": [
    "import wordcloud\n",
    "from wordcloud import WordCloud, STOPWORDS\n",
    "import matplotlib.pyplot as plt\n",
    "\n",
    "sample = comments.iloc[:10000,:].Reply.str.cat(sep='. ')"
   ]
  },
  {
   "cell_type": "code",
   "execution_count": 14,
   "metadata": {},
   "outputs": [],
   "source": [
    "import random\n",
    "def grey_color_func(word, font_size, position, orientation, random_state=None, **kwargs):\n",
    "    return \"hsl(0, 0%%, %d%%)\" % random.randint(1, 20)"
   ]
  },
  {
   "cell_type": "code",
   "execution_count": 15,
   "metadata": {},
   "outputs": [
    {
     "data": {
      "image/png": "[encoded data removed]",
      "text/plain": [
       "<Figure size 720x1440 with 1 Axes>"
      ]
     },
     "metadata": {
      "needs_background": "light"
     },
     "output_type": "display_data"
    }
   ],
   "source": [
    "stp = STOPWORDS.copy()\n",
    "stp.add('game')\n",
    "wc = WordCloud(background_color=\"white\", max_words=50,  stopwords=stp)\n",
    "# Generate word cloud\n",
    "wc.generate(sample)\n",
    "\n",
    "plt.figure(figsize=(10,20))\n",
    "plt.imshow(wc.recolor(color_func=grey_color_func, random_state=3))\n",
    "plt.show()"
   ]
  },
  {
   "cell_type": "code",
   "execution_count": 16,
   "metadata": {},
   "outputs": [
    {
     "data": {
      "text/plain": [
       "(34367, 4)"
      ]
     },
     "execution_count": 16,
     "metadata": {},
     "output_type": "execute_result"
    }
   ],
   "source": [
    "# Uncomment to use a subset of the rows.\n",
    "df = comments #[comments.Key<101]\n",
    "df.shape"
   ]
  },
  {
   "cell_type": "code",
   "execution_count": 17,
   "metadata": {},
   "outputs": [],
   "source": [
    "# The cleaning steps as outlined earlier\n",
    "df.Reply = df.Reply.apply(lambda x: re.sub(r'\\(?http\\S+', '', x))\n",
    "df.Reply = df.Reply.apply(lambda x: ' '.join(nltk.word_tokenize(x)))"
   ]
  },
  {
   "cell_type": "markdown",
   "metadata": {},
   "source": [
    "## Sentiment Analysis"
   ]
  },
  {
   "cell_type": "markdown",
   "metadata": {},
   "source": [
    "- ### __Sentiment Classification using Vader package__"
   ]
  },
  {
   "cell_type": "code",
   "execution_count": 18,
   "metadata": {},
   "outputs": [
    {
     "name": "stderr",
     "output_type": "stream",
     "text": [
      "[nltk_data] Downloading package vader_lexicon to\n",
      "[nltk_data]     C:\\Users\\sakya\\AppData\\Roaming\\nltk_data...\n",
      "[nltk_data]   Package vader_lexicon is already up-to-date!\n"
     ]
    }
   ],
   "source": [
    "nltk.download('vader_lexicon')\n",
    "from nltk.sentiment.vader import SentimentIntensityAnalyzer, VaderConstants\n",
    "\n",
    "# Initialize VADER so we can use it within our Python script\n",
    "sid = SentimentIntensityAnalyzer()"
   ]
  },
  {
   "cell_type": "code",
   "execution_count": 19,
   "metadata": {
    "scrolled": true
   },
   "outputs": [
    {
     "data": {
      "text/plain": [
       "{'neg': 0.0, 'neu': 0.674, 'pos': 0.326, 'compound': 0.4404}"
      ]
     },
     "execution_count": 19,
     "metadata": {},
     "output_type": "execute_result"
    }
   ],
   "source": [
    "sid.polarity_scores('Epic Games Store is better than Steam')"
   ]
  },
  {
   "cell_type": "markdown",
   "metadata": {},
   "source": [
    "We can add sentiment scores to words manually if we want"
   ]
  },
  {
   "cell_type": "code",
   "execution_count": 20,
   "metadata": {},
   "outputs": [],
   "source": [
    "new_words = {\n",
    "    'Steam' : 0,\n",
    "    'Epic Games' : 0,\n",
    "}\n",
    "\n",
    "sid.lexicon.update(new_words)"
   ]
  },
  {
   "cell_type": "code",
   "execution_count": 21,
   "metadata": {
    "scrolled": true
   },
   "outputs": [
    {
     "data": {
      "text/plain": [
       "{'neg': 0.0, 'neu': 0.674, 'pos': 0.326, 'compound': 0.4404}"
      ]
     },
     "execution_count": 21,
     "metadata": {},
     "output_type": "execute_result"
    }
   ],
   "source": [
    "sid.polarity_scores('Epic Games Store is better than Steam')"
   ]
  },
  {
   "cell_type": "code",
   "execution_count": 22,
   "metadata": {},
   "outputs": [],
   "source": [
    "df[['vdr neg','vdr neu','vdr pos','vdr compound']] = df.Reply.apply(lambda x: pd.Series(sid.polarity_scores(x)))"
   ]
  },
  {
   "cell_type": "code",
   "execution_count": 23,
   "metadata": {},
   "outputs": [
    {
     "data": {
      "text/html": [
       "<div>\n",
       "<style scoped>\n",
       "    .dataframe tbody tr th:only-of-type {\n",
       "        vertical-align: middle;\n",
       "    }\n",
       "\n",
       "    .dataframe tbody tr th {\n",
       "        vertical-align: top;\n",
       "    }\n",
       "\n",
       "    .dataframe thead th {\n",
       "        text-align: right;\n",
       "    }\n",
       "</style>\n",
       "<table border=\"1\" class=\"dataframe\">\n",
       "  <thead>\n",
       "    <tr style=\"text-align: right;\">\n",
       "      <th></th>\n",
       "      <th>Reply</th>\n",
       "      <th>Upvote</th>\n",
       "      <th>Time</th>\n",
       "      <th>Key</th>\n",
       "      <th>vdr neg</th>\n",
       "      <th>vdr neu</th>\n",
       "      <th>vdr pos</th>\n",
       "      <th>vdr compound</th>\n",
       "    </tr>\n",
       "  </thead>\n",
       "  <tbody>\n",
       "    <tr>\n",
       "      <th>0</th>\n",
       "      <td>My game launcher turned Russian</td>\n",
       "      <td>59.0</td>\n",
       "      <td>2020-05-15 03:24:53</td>\n",
       "      <td>0.0</td>\n",
       "      <td>0.0</td>\n",
       "      <td>1.0</td>\n",
       "      <td>0.0</td>\n",
       "      <td>0.0</td>\n",
       "    </tr>\n",
       "    <tr>\n",
       "      <th>1</th>\n",
       "      <td>Every time I refresh my epic game launcher it ...</td>\n",
       "      <td>21.0</td>\n",
       "      <td>2020-05-15 03:44:36</td>\n",
       "      <td>0.0</td>\n",
       "      <td>0.0</td>\n",
       "      <td>1.0</td>\n",
       "      <td>0.0</td>\n",
       "      <td>0.0</td>\n",
       "    </tr>\n",
       "    <tr>\n",
       "      <th>2</th>\n",
       "      <td>Premium edition actually</td>\n",
       "      <td>9.0</td>\n",
       "      <td>2020-05-15 03:55:30</td>\n",
       "      <td>0.0</td>\n",
       "      <td>0.0</td>\n",
       "      <td>1.0</td>\n",
       "      <td>0.0</td>\n",
       "      <td>0.0</td>\n",
       "    </tr>\n",
       "  </tbody>\n",
       "</table>\n",
       "</div>"
      ],
      "text/plain": [
       "                                               Reply  Upvote  \\\n",
       "0                    My game launcher turned Russian    59.0   \n",
       "1  Every time I refresh my epic game launcher it ...    21.0   \n",
       "2                           Premium edition actually     9.0   \n",
       "\n",
       "                  Time  Key  vdr neg  vdr neu  vdr pos  vdr compound  \n",
       "0  2020-05-15 03:24:53  0.0      0.0      1.0      0.0           0.0  \n",
       "1  2020-05-15 03:44:36  0.0      0.0      1.0      0.0           0.0  \n",
       "2  2020-05-15 03:55:30  0.0      0.0      1.0      0.0           0.0  "
      ]
     },
     "execution_count": 23,
     "metadata": {},
     "output_type": "execute_result"
    }
   ],
   "source": [
    "df.head(3)"
   ]
  },
  {
   "cell_type": "code",
   "execution_count": 24,
   "metadata": {},
   "outputs": [
    {
     "data": {
      "text/html": [
       "<div>\n",
       "<style scoped>\n",
       "    .dataframe tbody tr th:only-of-type {\n",
       "        vertical-align: middle;\n",
       "    }\n",
       "\n",
       "    .dataframe tbody tr th {\n",
       "        vertical-align: top;\n",
       "    }\n",
       "\n",
       "    .dataframe thead th {\n",
       "        text-align: right;\n",
       "    }\n",
       "</style>\n",
       "<table border=\"1\" class=\"dataframe\">\n",
       "  <thead>\n",
       "    <tr style=\"text-align: right;\">\n",
       "      <th></th>\n",
       "      <th>Upvote</th>\n",
       "      <th>Key</th>\n",
       "      <th>vdr neg</th>\n",
       "      <th>vdr neu</th>\n",
       "      <th>vdr pos</th>\n",
       "      <th>vdr compound</th>\n",
       "    </tr>\n",
       "  </thead>\n",
       "  <tbody>\n",
       "    <tr>\n",
       "      <th>count</th>\n",
       "      <td>34367.000000</td>\n",
       "      <td>34367.000000</td>\n",
       "      <td>34367.000000</td>\n",
       "      <td>34367.000000</td>\n",
       "      <td>34367.000000</td>\n",
       "      <td>34367.000000</td>\n",
       "    </tr>\n",
       "    <tr>\n",
       "      <th>mean</th>\n",
       "      <td>2.657928</td>\n",
       "      <td>335.480286</td>\n",
       "      <td>0.065198</td>\n",
       "      <td>0.790132</td>\n",
       "      <td>0.141033</td>\n",
       "      <td>0.161202</td>\n",
       "    </tr>\n",
       "    <tr>\n",
       "      <th>std</th>\n",
       "      <td>6.106541</td>\n",
       "      <td>272.709551</td>\n",
       "      <td>0.119265</td>\n",
       "      <td>0.214190</td>\n",
       "      <td>0.190331</td>\n",
       "      <td>0.446996</td>\n",
       "    </tr>\n",
       "    <tr>\n",
       "      <th>min</th>\n",
       "      <td>-47.000000</td>\n",
       "      <td>0.000000</td>\n",
       "      <td>0.000000</td>\n",
       "      <td>0.000000</td>\n",
       "      <td>0.000000</td>\n",
       "      <td>-0.994700</td>\n",
       "    </tr>\n",
       "    <tr>\n",
       "      <th>25%</th>\n",
       "      <td>1.000000</td>\n",
       "      <td>111.000000</td>\n",
       "      <td>0.000000</td>\n",
       "      <td>0.694000</td>\n",
       "      <td>0.000000</td>\n",
       "      <td>0.000000</td>\n",
       "    </tr>\n",
       "    <tr>\n",
       "      <th>50%</th>\n",
       "      <td>1.000000</td>\n",
       "      <td>261.000000</td>\n",
       "      <td>0.000000</td>\n",
       "      <td>0.828000</td>\n",
       "      <td>0.084000</td>\n",
       "      <td>0.000000</td>\n",
       "    </tr>\n",
       "    <tr>\n",
       "      <th>75%</th>\n",
       "      <td>3.000000</td>\n",
       "      <td>526.000000</td>\n",
       "      <td>0.095000</td>\n",
       "      <td>1.000000</td>\n",
       "      <td>0.206000</td>\n",
       "      <td>0.510600</td>\n",
       "    </tr>\n",
       "    <tr>\n",
       "      <th>max</th>\n",
       "      <td>212.000000</td>\n",
       "      <td>995.000000</td>\n",
       "      <td>1.000000</td>\n",
       "      <td>1.000000</td>\n",
       "      <td>1.000000</td>\n",
       "      <td>0.999100</td>\n",
       "    </tr>\n",
       "  </tbody>\n",
       "</table>\n",
       "</div>"
      ],
      "text/plain": [
       "             Upvote           Key       vdr neg       vdr neu       vdr pos  \\\n",
       "count  34367.000000  34367.000000  34367.000000  34367.000000  34367.000000   \n",
       "mean       2.657928    335.480286      0.065198      0.790132      0.141033   \n",
       "std        6.106541    272.709551      0.119265      0.214190      0.190331   \n",
       "min      -47.000000      0.000000      0.000000      0.000000      0.000000   \n",
       "25%        1.000000    111.000000      0.000000      0.694000      0.000000   \n",
       "50%        1.000000    261.000000      0.000000      0.828000      0.084000   \n",
       "75%        3.000000    526.000000      0.095000      1.000000      0.206000   \n",
       "max      212.000000    995.000000      1.000000      1.000000      1.000000   \n",
       "\n",
       "       vdr compound  \n",
       "count  34367.000000  \n",
       "mean       0.161202  \n",
       "std        0.446996  \n",
       "min       -0.994700  \n",
       "25%        0.000000  \n",
       "50%        0.000000  \n",
       "75%        0.510600  \n",
       "max        0.999100  "
      ]
     },
     "execution_count": 24,
     "metadata": {},
     "output_type": "execute_result"
    }
   ],
   "source": [
    "df.describe()"
   ]
  },
  {
   "cell_type": "markdown",
   "metadata": {},
   "source": [
    "- ### Sentiment Classification using Textblob package"
   ]
  },
  {
   "cell_type": "code",
   "execution_count": 25,
   "metadata": {},
   "outputs": [],
   "source": [
    "from textblob.sentiments import NaiveBayesAnalyzer, PatternAnalyzer\n",
    "from textblob import Blobber\n",
    "tba = Blobber(analyzer=NaiveBayesAnalyzer())"
   ]
  },
  {
   "cell_type": "code",
   "execution_count": 26,
   "metadata": {},
   "outputs": [
    {
     "name": "stderr",
     "output_type": "stream",
     "text": [
      "[nltk_data] Downloading package movie_reviews to\n",
      "[nltk_data]     C:\\Users\\sakya\\AppData\\Roaming\\nltk_data...\n",
      "[nltk_data]   Package movie_reviews is already up-to-date!\n"
     ]
    },
    {
     "data": {
      "text/plain": [
       "Sentiment(classification='neg', p_pos=0.374939442175929, p_neg=0.6250605578240714)"
      ]
     },
     "execution_count": 26,
     "metadata": {},
     "output_type": "execute_result"
    }
   ],
   "source": [
    "nltk.download('movie_reviews')\n",
    "tba('My life is a frictionless slide downhill').sentiment"
   ]
  },
  {
   "cell_type": "code",
   "execution_count": 27,
   "metadata": {},
   "outputs": [],
   "source": [
    "df[['TB Classification','TB pos','TB neg']] = df.Reply.apply(lambda x: pd.Series({'Classification':tba(x).sentiment[0],\n",
    "                                                                        'positive':tba(x).sentiment[1],\n",
    "                                                                        'negative':tba(x).sentiment[2]}))"
   ]
  },
  {
   "cell_type": "code",
   "execution_count": 28,
   "metadata": {
    "scrolled": true
   },
   "outputs": [
    {
     "data": {
      "text/html": [
       "<div>\n",
       "<style scoped>\n",
       "    .dataframe tbody tr th:only-of-type {\n",
       "        vertical-align: middle;\n",
       "    }\n",
       "\n",
       "    .dataframe tbody tr th {\n",
       "        vertical-align: top;\n",
       "    }\n",
       "\n",
       "    .dataframe thead th {\n",
       "        text-align: right;\n",
       "    }\n",
       "</style>\n",
       "<table border=\"1\" class=\"dataframe\">\n",
       "  <thead>\n",
       "    <tr style=\"text-align: right;\">\n",
       "      <th></th>\n",
       "      <th>Reply</th>\n",
       "      <th>Upvote</th>\n",
       "      <th>Time</th>\n",
       "      <th>Key</th>\n",
       "      <th>vdr neg</th>\n",
       "      <th>vdr neu</th>\n",
       "      <th>vdr pos</th>\n",
       "      <th>vdr compound</th>\n",
       "      <th>TB Classification</th>\n",
       "      <th>TB pos</th>\n",
       "      <th>TB neg</th>\n",
       "    </tr>\n",
       "  </thead>\n",
       "  <tbody>\n",
       "    <tr>\n",
       "      <th>0</th>\n",
       "      <td>My game launcher turned Russian</td>\n",
       "      <td>59.0</td>\n",
       "      <td>2020-05-15 03:24:53</td>\n",
       "      <td>0.0</td>\n",
       "      <td>0.0</td>\n",
       "      <td>1.0</td>\n",
       "      <td>0.0</td>\n",
       "      <td>0.0</td>\n",
       "      <td>neg</td>\n",
       "      <td>0.279181</td>\n",
       "      <td>0.720819</td>\n",
       "    </tr>\n",
       "    <tr>\n",
       "      <th>1</th>\n",
       "      <td>Every time I refresh my epic game launcher it ...</td>\n",
       "      <td>21.0</td>\n",
       "      <td>2020-05-15 03:44:36</td>\n",
       "      <td>0.0</td>\n",
       "      <td>0.0</td>\n",
       "      <td>1.0</td>\n",
       "      <td>0.0</td>\n",
       "      <td>0.0</td>\n",
       "      <td>pos</td>\n",
       "      <td>0.667773</td>\n",
       "      <td>0.332227</td>\n",
       "    </tr>\n",
       "    <tr>\n",
       "      <th>2</th>\n",
       "      <td>Premium edition actually</td>\n",
       "      <td>9.0</td>\n",
       "      <td>2020-05-15 03:55:30</td>\n",
       "      <td>0.0</td>\n",
       "      <td>0.0</td>\n",
       "      <td>1.0</td>\n",
       "      <td>0.0</td>\n",
       "      <td>0.0</td>\n",
       "      <td>pos</td>\n",
       "      <td>0.935340</td>\n",
       "      <td>0.064660</td>\n",
       "    </tr>\n",
       "  </tbody>\n",
       "</table>\n",
       "</div>"
      ],
      "text/plain": [
       "                                               Reply  Upvote  \\\n",
       "0                    My game launcher turned Russian    59.0   \n",
       "1  Every time I refresh my epic game launcher it ...    21.0   \n",
       "2                           Premium edition actually     9.0   \n",
       "\n",
       "                  Time  Key  vdr neg  vdr neu  vdr pos  vdr compound  \\\n",
       "0  2020-05-15 03:24:53  0.0      0.0      1.0      0.0           0.0   \n",
       "1  2020-05-15 03:44:36  0.0      0.0      1.0      0.0           0.0   \n",
       "2  2020-05-15 03:55:30  0.0      0.0      1.0      0.0           0.0   \n",
       "\n",
       "  TB Classification    TB pos    TB neg  \n",
       "0               neg  0.279181  0.720819  \n",
       "1               pos  0.667773  0.332227  \n",
       "2               pos  0.935340  0.064660  "
      ]
     },
     "execution_count": 28,
     "metadata": {},
     "output_type": "execute_result"
    }
   ],
   "source": [
    "df.head(3)"
   ]
  },
  {
   "cell_type": "code",
   "execution_count": 29,
   "metadata": {},
   "outputs": [
    {
     "data": {
      "text/html": [
       "<div>\n",
       "<style scoped>\n",
       "    .dataframe tbody tr th:only-of-type {\n",
       "        vertical-align: middle;\n",
       "    }\n",
       "\n",
       "    .dataframe tbody tr th {\n",
       "        vertical-align: top;\n",
       "    }\n",
       "\n",
       "    .dataframe thead th {\n",
       "        text-align: right;\n",
       "    }\n",
       "</style>\n",
       "<table border=\"1\" class=\"dataframe\">\n",
       "  <thead>\n",
       "    <tr style=\"text-align: right;\">\n",
       "      <th></th>\n",
       "      <th>Upvote</th>\n",
       "      <th>Key</th>\n",
       "      <th>vdr neg</th>\n",
       "      <th>vdr neu</th>\n",
       "      <th>vdr pos</th>\n",
       "      <th>vdr compound</th>\n",
       "      <th>TB pos</th>\n",
       "      <th>TB neg</th>\n",
       "    </tr>\n",
       "  </thead>\n",
       "  <tbody>\n",
       "    <tr>\n",
       "      <th>count</th>\n",
       "      <td>34367.000000</td>\n",
       "      <td>34367.000000</td>\n",
       "      <td>34367.000000</td>\n",
       "      <td>34367.000000</td>\n",
       "      <td>34367.000000</td>\n",
       "      <td>34367.000000</td>\n",
       "      <td>3.436700e+04</td>\n",
       "      <td>3.436700e+04</td>\n",
       "    </tr>\n",
       "    <tr>\n",
       "      <th>mean</th>\n",
       "      <td>2.657928</td>\n",
       "      <td>335.480286</td>\n",
       "      <td>0.065198</td>\n",
       "      <td>0.790132</td>\n",
       "      <td>0.141033</td>\n",
       "      <td>0.161202</td>\n",
       "      <td>5.686343e-01</td>\n",
       "      <td>4.313657e-01</td>\n",
       "    </tr>\n",
       "    <tr>\n",
       "      <th>std</th>\n",
       "      <td>6.106541</td>\n",
       "      <td>272.709551</td>\n",
       "      <td>0.119265</td>\n",
       "      <td>0.214190</td>\n",
       "      <td>0.190331</td>\n",
       "      <td>0.446996</td>\n",
       "      <td>2.682720e-01</td>\n",
       "      <td>2.682720e-01</td>\n",
       "    </tr>\n",
       "    <tr>\n",
       "      <th>min</th>\n",
       "      <td>-47.000000</td>\n",
       "      <td>0.000000</td>\n",
       "      <td>0.000000</td>\n",
       "      <td>0.000000</td>\n",
       "      <td>0.000000</td>\n",
       "      <td>-0.994700</td>\n",
       "      <td>1.682455e-07</td>\n",
       "      <td>8.749978e-27</td>\n",
       "    </tr>\n",
       "    <tr>\n",
       "      <th>25%</th>\n",
       "      <td>1.000000</td>\n",
       "      <td>111.000000</td>\n",
       "      <td>0.000000</td>\n",
       "      <td>0.694000</td>\n",
       "      <td>0.000000</td>\n",
       "      <td>0.000000</td>\n",
       "      <td>3.876036e-01</td>\n",
       "      <td>2.163452e-01</td>\n",
       "    </tr>\n",
       "    <tr>\n",
       "      <th>50%</th>\n",
       "      <td>1.000000</td>\n",
       "      <td>261.000000</td>\n",
       "      <td>0.000000</td>\n",
       "      <td>0.828000</td>\n",
       "      <td>0.084000</td>\n",
       "      <td>0.000000</td>\n",
       "      <td>5.560954e-01</td>\n",
       "      <td>4.439046e-01</td>\n",
       "    </tr>\n",
       "    <tr>\n",
       "      <th>75%</th>\n",
       "      <td>3.000000</td>\n",
       "      <td>526.000000</td>\n",
       "      <td>0.095000</td>\n",
       "      <td>1.000000</td>\n",
       "      <td>0.206000</td>\n",
       "      <td>0.510600</td>\n",
       "      <td>7.836548e-01</td>\n",
       "      <td>6.123964e-01</td>\n",
       "    </tr>\n",
       "    <tr>\n",
       "      <th>max</th>\n",
       "      <td>212.000000</td>\n",
       "      <td>995.000000</td>\n",
       "      <td>1.000000</td>\n",
       "      <td>1.000000</td>\n",
       "      <td>1.000000</td>\n",
       "      <td>0.999100</td>\n",
       "      <td>1.000000e+00</td>\n",
       "      <td>9.999998e-01</td>\n",
       "    </tr>\n",
       "  </tbody>\n",
       "</table>\n",
       "</div>"
      ],
      "text/plain": [
       "             Upvote           Key       vdr neg       vdr neu       vdr pos  \\\n",
       "count  34367.000000  34367.000000  34367.000000  34367.000000  34367.000000   \n",
       "mean       2.657928    335.480286      0.065198      0.790132      0.141033   \n",
       "std        6.106541    272.709551      0.119265      0.214190      0.190331   \n",
       "min      -47.000000      0.000000      0.000000      0.000000      0.000000   \n",
       "25%        1.000000    111.000000      0.000000      0.694000      0.000000   \n",
       "50%        1.000000    261.000000      0.000000      0.828000      0.084000   \n",
       "75%        3.000000    526.000000      0.095000      1.000000      0.206000   \n",
       "max      212.000000    995.000000      1.000000      1.000000      1.000000   \n",
       "\n",
       "       vdr compound        TB pos        TB neg  \n",
       "count  34367.000000  3.436700e+04  3.436700e+04  \n",
       "mean       0.161202  5.686343e-01  4.313657e-01  \n",
       "std        0.446996  2.682720e-01  2.682720e-01  \n",
       "min       -0.994700  1.682455e-07  8.749978e-27  \n",
       "25%        0.000000  3.876036e-01  2.163452e-01  \n",
       "50%        0.000000  5.560954e-01  4.439046e-01  \n",
       "75%        0.510600  7.836548e-01  6.123964e-01  \n",
       "max        0.999100  1.000000e+00  9.999998e-01  "
      ]
     },
     "execution_count": 29,
     "metadata": {},
     "output_type": "execute_result"
    }
   ],
   "source": [
    "df.describe()"
   ]
  },
  {
   "cell_type": "code",
   "execution_count": 30,
   "metadata": {},
   "outputs": [
    {
     "data": {
      "text/plain": [
       "pos    21256\n",
       "neg    13111\n",
       "Name: TB Classification, dtype: int64"
      ]
     },
     "execution_count": 30,
     "metadata": {},
     "output_type": "execute_result"
    }
   ],
   "source": [
    "df['TB Classification'].value_counts()"
   ]
  },
  {
   "cell_type": "markdown",
   "metadata": {},
   "source": [
    "- ### Sentiment Classification using Self-Trained Classifier Module for Kaggle"
   ]
  },
  {
   "cell_type": "code",
   "execution_count": 31,
   "metadata": {},
   "outputs": [
    {
     "name": "stderr",
     "output_type": "stream",
     "text": [
      "[nltk_data] Downloading package punkt to\n",
      "[nltk_data]     C:\\Users\\sakya\\AppData\\Roaming\\nltk_data...\n",
      "[nltk_data]   Package punkt is already up-to-date!\n"
     ]
    }
   ],
   "source": [
    "import import_ipynb\n",
    "%run Kaggle_Trained_Classifier.ipynb"
   ]
  },
  {
   "cell_type": "code",
   "execution_count": 32,
   "metadata": {},
   "outputs": [],
   "source": [
    "Z = vectorizer.transform(df['Reply'])"
   ]
  },
  {
   "cell_type": "code",
   "execution_count": 33,
   "metadata": {},
   "outputs": [],
   "source": [
    "predicted2 = nb.predict(Z)"
   ]
  },
  {
   "cell_type": "code",
   "execution_count": 34,
   "metadata": {},
   "outputs": [],
   "source": [
    "df2 = df"
   ]
  },
  {
   "cell_type": "code",
   "execution_count": 35,
   "metadata": {},
   "outputs": [],
   "source": [
    "df2['Classification for Kaggle'] = predicted2"
   ]
  },
  {
   "cell_type": "code",
   "execution_count": 36,
   "metadata": {},
   "outputs": [
    {
     "data": {
      "text/html": [
       "<div>\n",
       "<style scoped>\n",
       "    .dataframe tbody tr th:only-of-type {\n",
       "        vertical-align: middle;\n",
       "    }\n",
       "\n",
       "    .dataframe tbody tr th {\n",
       "        vertical-align: top;\n",
       "    }\n",
       "\n",
       "    .dataframe thead th {\n",
       "        text-align: right;\n",
       "    }\n",
       "</style>\n",
       "<table border=\"1\" class=\"dataframe\">\n",
       "  <thead>\n",
       "    <tr style=\"text-align: right;\">\n",
       "      <th></th>\n",
       "      <th>Reply</th>\n",
       "      <th>Upvote</th>\n",
       "      <th>Time</th>\n",
       "      <th>Key</th>\n",
       "      <th>vdr neg</th>\n",
       "      <th>vdr neu</th>\n",
       "      <th>vdr pos</th>\n",
       "      <th>vdr compound</th>\n",
       "      <th>TB Classification</th>\n",
       "      <th>TB pos</th>\n",
       "      <th>TB neg</th>\n",
       "      <th>Classification for Kaggle</th>\n",
       "    </tr>\n",
       "  </thead>\n",
       "  <tbody>\n",
       "    <tr>\n",
       "      <th>0</th>\n",
       "      <td>My game launcher turned Russian</td>\n",
       "      <td>59.0</td>\n",
       "      <td>2020-05-15 03:24:53</td>\n",
       "      <td>0.0</td>\n",
       "      <td>0.000</td>\n",
       "      <td>1.000</td>\n",
       "      <td>0.000</td>\n",
       "      <td>0.0000</td>\n",
       "      <td>neg</td>\n",
       "      <td>0.279181</td>\n",
       "      <td>0.720819</td>\n",
       "      <td>neutral</td>\n",
       "    </tr>\n",
       "    <tr>\n",
       "      <th>1</th>\n",
       "      <td>Every time I refresh my epic game launcher it ...</td>\n",
       "      <td>21.0</td>\n",
       "      <td>2020-05-15 03:44:36</td>\n",
       "      <td>0.0</td>\n",
       "      <td>0.000</td>\n",
       "      <td>1.000</td>\n",
       "      <td>0.000</td>\n",
       "      <td>0.0000</td>\n",
       "      <td>pos</td>\n",
       "      <td>0.667773</td>\n",
       "      <td>0.332227</td>\n",
       "      <td>neutral</td>\n",
       "    </tr>\n",
       "    <tr>\n",
       "      <th>2</th>\n",
       "      <td>Premium edition actually</td>\n",
       "      <td>9.0</td>\n",
       "      <td>2020-05-15 03:55:30</td>\n",
       "      <td>0.0</td>\n",
       "      <td>0.000</td>\n",
       "      <td>1.000</td>\n",
       "      <td>0.000</td>\n",
       "      <td>0.0000</td>\n",
       "      <td>pos</td>\n",
       "      <td>0.935340</td>\n",
       "      <td>0.064660</td>\n",
       "      <td>neutral</td>\n",
       "    </tr>\n",
       "    <tr>\n",
       "      <th>3</th>\n",
       "      <td>Downloading it even if my computer doesnt supp...</td>\n",
       "      <td>9.0</td>\n",
       "      <td>2020-05-15 05:29:58</td>\n",
       "      <td>0.0</td>\n",
       "      <td>0.220</td>\n",
       "      <td>0.780</td>\n",
       "      <td>0.000</td>\n",
       "      <td>-0.3089</td>\n",
       "      <td>pos</td>\n",
       "      <td>0.659854</td>\n",
       "      <td>0.340146</td>\n",
       "      <td>neutral</td>\n",
       "    </tr>\n",
       "    <tr>\n",
       "      <th>4</th>\n",
       "      <td>Man the site crashing , changing language auto...</td>\n",
       "      <td>28.0</td>\n",
       "      <td>2020-05-15 03:34:30</td>\n",
       "      <td>0.0</td>\n",
       "      <td>0.109</td>\n",
       "      <td>0.723</td>\n",
       "      <td>0.168</td>\n",
       "      <td>0.4211</td>\n",
       "      <td>pos</td>\n",
       "      <td>0.928223</td>\n",
       "      <td>0.071777</td>\n",
       "      <td>neutral</td>\n",
       "    </tr>\n",
       "  </tbody>\n",
       "</table>\n",
       "</div>"
      ],
      "text/plain": [
       "                                               Reply  Upvote  \\\n",
       "0                    My game launcher turned Russian    59.0   \n",
       "1  Every time I refresh my epic game launcher it ...    21.0   \n",
       "2                           Premium edition actually     9.0   \n",
       "3  Downloading it even if my computer doesnt supp...     9.0   \n",
       "4  Man the site crashing , changing language auto...    28.0   \n",
       "\n",
       "                  Time  Key  vdr neg  vdr neu  vdr pos  vdr compound  \\\n",
       "0  2020-05-15 03:24:53  0.0    0.000    1.000    0.000        0.0000   \n",
       "1  2020-05-15 03:44:36  0.0    0.000    1.000    0.000        0.0000   \n",
       "2  2020-05-15 03:55:30  0.0    0.000    1.000    0.000        0.0000   \n",
       "3  2020-05-15 05:29:58  0.0    0.220    0.780    0.000       -0.3089   \n",
       "4  2020-05-15 03:34:30  0.0    0.109    0.723    0.168        0.4211   \n",
       "\n",
       "  TB Classification    TB pos    TB neg Classification for Kaggle  \n",
       "0               neg  0.279181  0.720819                   neutral  \n",
       "1               pos  0.667773  0.332227                   neutral  \n",
       "2               pos  0.935340  0.064660                   neutral  \n",
       "3               pos  0.659854  0.340146                   neutral  \n",
       "4               pos  0.928223  0.071777                   neutral  "
      ]
     },
     "execution_count": 36,
     "metadata": {},
     "output_type": "execute_result"
    }
   ],
   "source": [
    "df2.head()"
   ]
  },
  {
   "cell_type": "code",
   "execution_count": 37,
   "metadata": {},
   "outputs": [
    {
     "data": {
      "text/plain": [
       "(34367,)"
      ]
     },
     "execution_count": 37,
     "metadata": {},
     "output_type": "execute_result"
    }
   ],
   "source": [
    "predicted2.shape"
   ]
  },
  {
   "cell_type": "code",
   "execution_count": 38,
   "metadata": {},
   "outputs": [
    {
     "data": {
      "text/plain": [
       "(34367, 12)"
      ]
     },
     "execution_count": 38,
     "metadata": {},
     "output_type": "execute_result"
    }
   ],
   "source": [
    "df.shape"
   ]
  },
  {
   "cell_type": "code",
   "execution_count": 39,
   "metadata": {},
   "outputs": [
    {
     "data": {
      "text/plain": [
       "neutral     19140\n",
       "negative     8166\n",
       "positive     7061\n",
       "Name: Classification for Kaggle, dtype: int64"
      ]
     },
     "execution_count": 39,
     "metadata": {},
     "output_type": "execute_result"
    }
   ],
   "source": [
    "df['Classification for Kaggle'].value_counts()"
   ]
  },
  {
   "cell_type": "code",
   "execution_count": 40,
   "metadata": {},
   "outputs": [
    {
     "data": {
      "text/html": [
       "<div>\n",
       "<style scoped>\n",
       "    .dataframe tbody tr th:only-of-type {\n",
       "        vertical-align: middle;\n",
       "    }\n",
       "\n",
       "    .dataframe tbody tr th {\n",
       "        vertical-align: top;\n",
       "    }\n",
       "\n",
       "    .dataframe thead th {\n",
       "        text-align: right;\n",
       "    }\n",
       "</style>\n",
       "<table border=\"1\" class=\"dataframe\">\n",
       "  <thead>\n",
       "    <tr style=\"text-align: right;\">\n",
       "      <th></th>\n",
       "      <th>Reply</th>\n",
       "      <th>Upvote</th>\n",
       "      <th>Time</th>\n",
       "      <th>Key</th>\n",
       "      <th>vdr neg</th>\n",
       "      <th>vdr neu</th>\n",
       "      <th>vdr pos</th>\n",
       "      <th>vdr compound</th>\n",
       "      <th>TB Classification</th>\n",
       "      <th>TB pos</th>\n",
       "      <th>TB neg</th>\n",
       "      <th>Classification for Kaggle</th>\n",
       "    </tr>\n",
       "  </thead>\n",
       "  <tbody>\n",
       "    <tr>\n",
       "      <th>0</th>\n",
       "      <td>My game launcher turned Russian</td>\n",
       "      <td>59.0</td>\n",
       "      <td>2020-05-15 03:24:53</td>\n",
       "      <td>0.0</td>\n",
       "      <td>0.000</td>\n",
       "      <td>1.000</td>\n",
       "      <td>0.000</td>\n",
       "      <td>0.0000</td>\n",
       "      <td>neg</td>\n",
       "      <td>0.279181</td>\n",
       "      <td>0.720819</td>\n",
       "      <td>neutral</td>\n",
       "    </tr>\n",
       "    <tr>\n",
       "      <th>1</th>\n",
       "      <td>Every time I refresh my epic game launcher it ...</td>\n",
       "      <td>21.0</td>\n",
       "      <td>2020-05-15 03:44:36</td>\n",
       "      <td>0.0</td>\n",
       "      <td>0.000</td>\n",
       "      <td>1.000</td>\n",
       "      <td>0.000</td>\n",
       "      <td>0.0000</td>\n",
       "      <td>pos</td>\n",
       "      <td>0.667773</td>\n",
       "      <td>0.332227</td>\n",
       "      <td>neutral</td>\n",
       "    </tr>\n",
       "    <tr>\n",
       "      <th>2</th>\n",
       "      <td>Premium edition actually</td>\n",
       "      <td>9.0</td>\n",
       "      <td>2020-05-15 03:55:30</td>\n",
       "      <td>0.0</td>\n",
       "      <td>0.000</td>\n",
       "      <td>1.000</td>\n",
       "      <td>0.000</td>\n",
       "      <td>0.0000</td>\n",
       "      <td>pos</td>\n",
       "      <td>0.935340</td>\n",
       "      <td>0.064660</td>\n",
       "      <td>neutral</td>\n",
       "    </tr>\n",
       "    <tr>\n",
       "      <th>3</th>\n",
       "      <td>Downloading it even if my computer doesnt supp...</td>\n",
       "      <td>9.0</td>\n",
       "      <td>2020-05-15 05:29:58</td>\n",
       "      <td>0.0</td>\n",
       "      <td>0.220</td>\n",
       "      <td>0.780</td>\n",
       "      <td>0.000</td>\n",
       "      <td>-0.3089</td>\n",
       "      <td>pos</td>\n",
       "      <td>0.659854</td>\n",
       "      <td>0.340146</td>\n",
       "      <td>neutral</td>\n",
       "    </tr>\n",
       "    <tr>\n",
       "      <th>4</th>\n",
       "      <td>Man the site crashing , changing language auto...</td>\n",
       "      <td>28.0</td>\n",
       "      <td>2020-05-15 03:34:30</td>\n",
       "      <td>0.0</td>\n",
       "      <td>0.109</td>\n",
       "      <td>0.723</td>\n",
       "      <td>0.168</td>\n",
       "      <td>0.4211</td>\n",
       "      <td>pos</td>\n",
       "      <td>0.928223</td>\n",
       "      <td>0.071777</td>\n",
       "      <td>neutral</td>\n",
       "    </tr>\n",
       "    <tr>\n",
       "      <th>5</th>\n",
       "      <td>xD i got so hyped</td>\n",
       "      <td>3.0</td>\n",
       "      <td>2020-05-15 03:28:37</td>\n",
       "      <td>0.0</td>\n",
       "      <td>0.000</td>\n",
       "      <td>0.441</td>\n",
       "      <td>0.559</td>\n",
       "      <td>0.5859</td>\n",
       "      <td>neg</td>\n",
       "      <td>0.319025</td>\n",
       "      <td>0.680975</td>\n",
       "      <td>positive</td>\n",
       "    </tr>\n",
       "    <tr>\n",
       "      <th>6</th>\n",
       "      <td>My game launcher also turned Russian all of a ...</td>\n",
       "      <td>3.0</td>\n",
       "      <td>2020-05-15 03:31:21</td>\n",
       "      <td>0.0</td>\n",
       "      <td>0.000</td>\n",
       "      <td>1.000</td>\n",
       "      <td>0.000</td>\n",
       "      <td>0.0000</td>\n",
       "      <td>neg</td>\n",
       "      <td>0.295564</td>\n",
       "      <td>0.704436</td>\n",
       "      <td>negative</td>\n",
       "    </tr>\n",
       "    <tr>\n",
       "      <th>7</th>\n",
       "      <td>What 's next week free game ? ! 😅</td>\n",
       "      <td>3.0</td>\n",
       "      <td>2020-05-15 03:40:26</td>\n",
       "      <td>0.0</td>\n",
       "      <td>0.000</td>\n",
       "      <td>0.582</td>\n",
       "      <td>0.418</td>\n",
       "      <td>0.5562</td>\n",
       "      <td>pos</td>\n",
       "      <td>0.561565</td>\n",
       "      <td>0.438435</td>\n",
       "      <td>neutral</td>\n",
       "    </tr>\n",
       "    <tr>\n",
       "      <th>8</th>\n",
       "      <td>Lol my changed language</td>\n",
       "      <td>3.0</td>\n",
       "      <td>2020-05-15 03:46:54</td>\n",
       "      <td>0.0</td>\n",
       "      <td>0.000</td>\n",
       "      <td>0.517</td>\n",
       "      <td>0.483</td>\n",
       "      <td>0.4215</td>\n",
       "      <td>neg</td>\n",
       "      <td>0.208978</td>\n",
       "      <td>0.791022</td>\n",
       "      <td>neutral</td>\n",
       "    </tr>\n",
       "    <tr>\n",
       "      <th>9</th>\n",
       "      <td>Thats so damn right xD</td>\n",
       "      <td>2.0</td>\n",
       "      <td>2020-05-15 03:48:45</td>\n",
       "      <td>0.0</td>\n",
       "      <td>0.298</td>\n",
       "      <td>0.298</td>\n",
       "      <td>0.404</td>\n",
       "      <td>0.2665</td>\n",
       "      <td>neg</td>\n",
       "      <td>0.499957</td>\n",
       "      <td>0.500043</td>\n",
       "      <td>positive</td>\n",
       "    </tr>\n",
       "  </tbody>\n",
       "</table>\n",
       "</div>"
      ],
      "text/plain": [
       "                                               Reply  Upvote  \\\n",
       "0                    My game launcher turned Russian    59.0   \n",
       "1  Every time I refresh my epic game launcher it ...    21.0   \n",
       "2                           Premium edition actually     9.0   \n",
       "3  Downloading it even if my computer doesnt supp...     9.0   \n",
       "4  Man the site crashing , changing language auto...    28.0   \n",
       "5                                  xD i got so hyped     3.0   \n",
       "6  My game launcher also turned Russian all of a ...     3.0   \n",
       "7                  What 's next week free game ? ! 😅     3.0   \n",
       "8                            Lol my changed language     3.0   \n",
       "9                             Thats so damn right xD     2.0   \n",
       "\n",
       "                  Time  Key  vdr neg  vdr neu  vdr pos  vdr compound  \\\n",
       "0  2020-05-15 03:24:53  0.0    0.000    1.000    0.000        0.0000   \n",
       "1  2020-05-15 03:44:36  0.0    0.000    1.000    0.000        0.0000   \n",
       "2  2020-05-15 03:55:30  0.0    0.000    1.000    0.000        0.0000   \n",
       "3  2020-05-15 05:29:58  0.0    0.220    0.780    0.000       -0.3089   \n",
       "4  2020-05-15 03:34:30  0.0    0.109    0.723    0.168        0.4211   \n",
       "5  2020-05-15 03:28:37  0.0    0.000    0.441    0.559        0.5859   \n",
       "6  2020-05-15 03:31:21  0.0    0.000    1.000    0.000        0.0000   \n",
       "7  2020-05-15 03:40:26  0.0    0.000    0.582    0.418        0.5562   \n",
       "8  2020-05-15 03:46:54  0.0    0.000    0.517    0.483        0.4215   \n",
       "9  2020-05-15 03:48:45  0.0    0.298    0.298    0.404        0.2665   \n",
       "\n",
       "  TB Classification    TB pos    TB neg Classification for Kaggle  \n",
       "0               neg  0.279181  0.720819                   neutral  \n",
       "1               pos  0.667773  0.332227                   neutral  \n",
       "2               pos  0.935340  0.064660                   neutral  \n",
       "3               pos  0.659854  0.340146                   neutral  \n",
       "4               pos  0.928223  0.071777                   neutral  \n",
       "5               neg  0.319025  0.680975                  positive  \n",
       "6               neg  0.295564  0.704436                  negative  \n",
       "7               pos  0.561565  0.438435                   neutral  \n",
       "8               neg  0.208978  0.791022                   neutral  \n",
       "9               neg  0.499957  0.500043                  positive  "
      ]
     },
     "execution_count": 40,
     "metadata": {},
     "output_type": "execute_result"
    }
   ],
   "source": [
    "df2.head(10)"
   ]
  },
  {
   "cell_type": "markdown",
   "metadata": {},
   "source": [
    "Using the Textblob package, we can see that the Epic Games Store reddit has a mixed sentiment response on posts. 39% bad sentimes and 61% good sentiment."
   ]
  },
  {
   "cell_type": "markdown",
   "metadata": {},
   "source": [
    "Using our own trained classification module, there seems to be more Negative sentiments compared to Positive ones. 23% Negative response and 21% Positive sentimes. But if we set aside the Neutral Sentimes, this looks like a very mixed sentiment."
   ]
  },
  {
   "cell_type": "code",
   "execution_count": 41,
   "metadata": {},
   "outputs": [
    {
     "data": {
      "text/plain": [
       "neutral     55.692961\n",
       "negative    23.761166\n",
       "positive    20.545872\n",
       "Name: Classification for Kaggle, dtype: float64"
      ]
     },
     "execution_count": 41,
     "metadata": {},
     "output_type": "execute_result"
    }
   ],
   "source": [
    "df['Classification for Kaggle'].value_counts(normalize=True) * 100"
   ]
  },
  {
   "cell_type": "code",
   "execution_count": 42,
   "metadata": {},
   "outputs": [
    {
     "data": {
      "text/plain": [
       "pos    61.850031\n",
       "neg    38.149969\n",
       "Name: TB Classification, dtype: float64"
      ]
     },
     "execution_count": 42,
     "metadata": {},
     "output_type": "execute_result"
    }
   ],
   "source": [
    "df['TB Classification'].value_counts(normalize=True) * 100"
   ]
  },
  {
   "cell_type": "code",
   "execution_count": 43,
   "metadata": {},
   "outputs": [],
   "source": [
    "#Importing matplotlib which is a plotting library\n",
    "import matplotlib.pyplot as plt"
   ]
  },
  {
   "cell_type": "code",
   "execution_count": 44,
   "metadata": {},
   "outputs": [
    {
     "data": {
      "text/plain": [
       "Text(0, 0.5, 'compound score')"
      ]
     },
     "execution_count": 44,
     "metadata": {},
     "output_type": "execute_result"
    },
    {
     "data": {
      "image/png": "[encoded data removed]",
      "text/plain": [
       "<Figure size 432x288 with 1 Axes>"
      ]
     },
     "metadata": {
      "needs_background": "light"
     },
     "output_type": "display_data"
    }
   ],
   "source": [
    "#Make a plot to compare the time with the compound score\n",
    "plt.scatter(df['Time'].head(30),df['vdr compound'].head(30))\n",
    "plt.xlabel('time')\n",
    "plt.ylabel('compound score')"
   ]
  },
  {
   "cell_type": "code",
   "execution_count": 45,
   "metadata": {},
   "outputs": [],
   "source": [
    "overTime = df.drop([\"Reply\",\"Upvote\",\"Key\",\"vdr neg\",\"vdr neu\",\"vdr pos\",\"TB Classification\",\"TB pos\",\"TB neg\",\"Classification for Kaggle\"], axis =1)"
   ]
  },
  {
   "cell_type": "code",
   "execution_count": 46,
   "metadata": {},
   "outputs": [
    {
     "data": {
      "text/html": [
       "<div>\n",
       "<style scoped>\n",
       "    .dataframe tbody tr th:only-of-type {\n",
       "        vertical-align: middle;\n",
       "    }\n",
       "\n",
       "    .dataframe tbody tr th {\n",
       "        vertical-align: top;\n",
       "    }\n",
       "\n",
       "    .dataframe thead th {\n",
       "        text-align: right;\n",
       "    }\n",
       "</style>\n",
       "<table border=\"1\" class=\"dataframe\">\n",
       "  <thead>\n",
       "    <tr style=\"text-align: right;\">\n",
       "      <th></th>\n",
       "      <th>Time</th>\n",
       "      <th>vdr compound</th>\n",
       "    </tr>\n",
       "  </thead>\n",
       "  <tbody>\n",
       "    <tr>\n",
       "      <th>0</th>\n",
       "      <td>2020-05-15 03:24:53</td>\n",
       "      <td>0.0000</td>\n",
       "    </tr>\n",
       "    <tr>\n",
       "      <th>1</th>\n",
       "      <td>2020-05-15 03:44:36</td>\n",
       "      <td>0.0000</td>\n",
       "    </tr>\n",
       "    <tr>\n",
       "      <th>2</th>\n",
       "      <td>2020-05-15 03:55:30</td>\n",
       "      <td>0.0000</td>\n",
       "    </tr>\n",
       "    <tr>\n",
       "      <th>3</th>\n",
       "      <td>2020-05-15 05:29:58</td>\n",
       "      <td>-0.3089</td>\n",
       "    </tr>\n",
       "    <tr>\n",
       "      <th>4</th>\n",
       "      <td>2020-05-15 03:34:30</td>\n",
       "      <td>0.4211</td>\n",
       "    </tr>\n",
       "    <tr>\n",
       "      <th>5</th>\n",
       "      <td>2020-05-15 03:28:37</td>\n",
       "      <td>0.5859</td>\n",
       "    </tr>\n",
       "    <tr>\n",
       "      <th>6</th>\n",
       "      <td>2020-05-15 03:31:21</td>\n",
       "      <td>0.0000</td>\n",
       "    </tr>\n",
       "    <tr>\n",
       "      <th>7</th>\n",
       "      <td>2020-05-15 03:40:26</td>\n",
       "      <td>0.5562</td>\n",
       "    </tr>\n",
       "    <tr>\n",
       "      <th>8</th>\n",
       "      <td>2020-05-15 03:46:54</td>\n",
       "      <td>0.4215</td>\n",
       "    </tr>\n",
       "    <tr>\n",
       "      <th>9</th>\n",
       "      <td>2020-05-15 03:48:45</td>\n",
       "      <td>0.2665</td>\n",
       "    </tr>\n",
       "    <tr>\n",
       "      <th>10</th>\n",
       "      <td>2020-05-15 03:52:37</td>\n",
       "      <td>-0.1680</td>\n",
       "    </tr>\n",
       "    <tr>\n",
       "      <th>11</th>\n",
       "      <td>2020-05-15 12:51:10</td>\n",
       "      <td>0.9562</td>\n",
       "    </tr>\n",
       "    <tr>\n",
       "      <th>12</th>\n",
       "      <td>2020-05-15 15:07:14</td>\n",
       "      <td>-0.4314</td>\n",
       "    </tr>\n",
       "    <tr>\n",
       "      <th>13</th>\n",
       "      <td>2020-05-15 03:50:17</td>\n",
       "      <td>0.4019</td>\n",
       "    </tr>\n",
       "    <tr>\n",
       "      <th>14</th>\n",
       "      <td>2020-05-15 04:12:35</td>\n",
       "      <td>-0.5859</td>\n",
       "    </tr>\n",
       "    <tr>\n",
       "      <th>15</th>\n",
       "      <td>2020-05-15 04:17:00</td>\n",
       "      <td>0.7269</td>\n",
       "    </tr>\n",
       "    <tr>\n",
       "      <th>16</th>\n",
       "      <td>2020-05-15 04:35:15</td>\n",
       "      <td>0.0000</td>\n",
       "    </tr>\n",
       "    <tr>\n",
       "      <th>17</th>\n",
       "      <td>2020-05-15 04:41:42</td>\n",
       "      <td>0.0000</td>\n",
       "    </tr>\n",
       "    <tr>\n",
       "      <th>18</th>\n",
       "      <td>2020-05-15 04:44:13</td>\n",
       "      <td>0.0000</td>\n",
       "    </tr>\n",
       "    <tr>\n",
       "      <th>19</th>\n",
       "      <td>2020-05-15 05:02:02</td>\n",
       "      <td>0.0000</td>\n",
       "    </tr>\n",
       "    <tr>\n",
       "      <th>20</th>\n",
       "      <td>2020-05-15 05:03:29</td>\n",
       "      <td>-0.7469</td>\n",
       "    </tr>\n",
       "    <tr>\n",
       "      <th>21</th>\n",
       "      <td>2020-05-15 05:06:05</td>\n",
       "      <td>0.0000</td>\n",
       "    </tr>\n",
       "    <tr>\n",
       "      <th>22</th>\n",
       "      <td>2020-05-15 05:10:16</td>\n",
       "      <td>0.0000</td>\n",
       "    </tr>\n",
       "    <tr>\n",
       "      <th>23</th>\n",
       "      <td>2020-05-15 05:19:14</td>\n",
       "      <td>0.0000</td>\n",
       "    </tr>\n",
       "    <tr>\n",
       "      <th>24</th>\n",
       "      <td>2020-05-15 05:53:14</td>\n",
       "      <td>-0.7088</td>\n",
       "    </tr>\n",
       "    <tr>\n",
       "      <th>25</th>\n",
       "      <td>2020-05-15 06:13:49</td>\n",
       "      <td>0.6103</td>\n",
       "    </tr>\n",
       "    <tr>\n",
       "      <th>26</th>\n",
       "      <td>2020-05-15 06:15:28</td>\n",
       "      <td>-0.1280</td>\n",
       "    </tr>\n",
       "    <tr>\n",
       "      <th>27</th>\n",
       "      <td>2020-05-15 06:36:12</td>\n",
       "      <td>0.5994</td>\n",
       "    </tr>\n",
       "    <tr>\n",
       "      <th>28</th>\n",
       "      <td>2020-05-15 07:07:28</td>\n",
       "      <td>0.7592</td>\n",
       "    </tr>\n",
       "    <tr>\n",
       "      <th>29</th>\n",
       "      <td>2020-05-15 07:27:29</td>\n",
       "      <td>-0.3252</td>\n",
       "    </tr>\n",
       "  </tbody>\n",
       "</table>\n",
       "</div>"
      ],
      "text/plain": [
       "                   Time  vdr compound\n",
       "0   2020-05-15 03:24:53        0.0000\n",
       "1   2020-05-15 03:44:36        0.0000\n",
       "2   2020-05-15 03:55:30        0.0000\n",
       "3   2020-05-15 05:29:58       -0.3089\n",
       "4   2020-05-15 03:34:30        0.4211\n",
       "5   2020-05-15 03:28:37        0.5859\n",
       "6   2020-05-15 03:31:21        0.0000\n",
       "7   2020-05-15 03:40:26        0.5562\n",
       "8   2020-05-15 03:46:54        0.4215\n",
       "9   2020-05-15 03:48:45        0.2665\n",
       "10  2020-05-15 03:52:37       -0.1680\n",
       "11  2020-05-15 12:51:10        0.9562\n",
       "12  2020-05-15 15:07:14       -0.4314\n",
       "13  2020-05-15 03:50:17        0.4019\n",
       "14  2020-05-15 04:12:35       -0.5859\n",
       "15  2020-05-15 04:17:00        0.7269\n",
       "16  2020-05-15 04:35:15        0.0000\n",
       "17  2020-05-15 04:41:42        0.0000\n",
       "18  2020-05-15 04:44:13        0.0000\n",
       "19  2020-05-15 05:02:02        0.0000\n",
       "20  2020-05-15 05:03:29       -0.7469\n",
       "21  2020-05-15 05:06:05        0.0000\n",
       "22  2020-05-15 05:10:16        0.0000\n",
       "23  2020-05-15 05:19:14        0.0000\n",
       "24  2020-05-15 05:53:14       -0.7088\n",
       "25  2020-05-15 06:13:49        0.6103\n",
       "26  2020-05-15 06:15:28       -0.1280\n",
       "27  2020-05-15 06:36:12        0.5994\n",
       "28  2020-05-15 07:07:28        0.7592\n",
       "29  2020-05-15 07:27:29       -0.3252"
      ]
     },
     "execution_count": 46,
     "metadata": {},
     "output_type": "execute_result"
    }
   ],
   "source": [
    "overTime.head(30)"
   ]
  },
  {
   "cell_type": "code",
   "execution_count": 55,
   "metadata": {},
   "outputs": [],
   "source": [
    "overTime2 = overTime.head(100)"
   ]
  },
  {
   "cell_type": "code",
   "execution_count": 54,
   "metadata": {},
   "outputs": [],
   "source": [
    "#Graph the relationship between attributes\n",
    "import seaborn as sns"
   ]
  },
  {
   "cell_type": "code",
   "execution_count": 61,
   "metadata": {},
   "outputs": [
    {
     "data": {
      "image/png": "[encoded data removed]",
      "text/plain": [
       "<Figure size 1440x360 with 1 Axes>"
      ]
     },
     "metadata": {
      "needs_background": "light"
     },
     "output_type": "display_data"
    }
   ],
   "source": [
    "fig, ax = plt.subplots(figsize=(20,5))\n",
    "sns.lineplot(x=\"Time\", y=\"vdr compound\", data=overTime2)\n",
    "plt.xticks(rotation=15)\n",
    "plt.title('seaborn-matplotlib example')\n",
    "plt.show()"
   ]
  },
  {
   "cell_type": "code",
   "execution_count": null,
   "metadata": {},
   "outputs": [],
   "source": []
  }
 ],
 "metadata": {
  "kernelspec": {
   "display_name": "Python 3",
   "language": "python",
   "name": "python3"
  },
  "language_info": {
   "codemirror_mode": {
    "name": "ipython",
    "version": 3
   },
   "file_extension": ".py",
   "mimetype": "text/x-python",
   "name": "python",
   "nbconvert_exporter": "python",
   "pygments_lexer": "ipython3",
   "version": "3.8.5"
  }
 },
 "nbformat": 4,
 "nbformat_minor": 4
}
