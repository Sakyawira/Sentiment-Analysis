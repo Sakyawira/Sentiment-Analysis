{
 "cells": [
  {
   "cell_type": "markdown",
   "metadata": {},
   "source": [
    "## Business Case\n",
    "My Business case is a particular game company wishes to investigate the popularity of Epic Games Store. The video game company plans to use the results of the investigation to inform future business decisions (whether they will make an exclusivity deal with Epic Games Store for their upcoming title). We approached the problem by analysing sentiments of posts in the Epic Games Store subreddit (r/EpicGamesPC: https://www.reddit.com/r/EpicGamesPC/ )."
   ]
  },
  {
   "cell_type": "code",
   "execution_count": 1,
   "metadata": {},
   "outputs": [],
   "source": [
    "import datetime\n",
    "\n",
    "import praw\n",
    "import pandas as pd\n",
    "\n",
    "from keys import client_id, client_secret"
   ]
  },
  {
   "cell_type": "markdown",
   "metadata": {},
   "source": [
    "### Collecting the posts for our topic"
   ]
  },
  {
   "cell_type": "markdown",
   "metadata": {},
   "source": [
    "Initializing a Reddit Instance"
   ]
  },
  {
   "cell_type": "code",
   "execution_count": 2,
   "metadata": {},
   "outputs": [],
   "source": [
    "reddit = praw.Reddit( client_id=client_id,\n",
    "                      client_secret=client_secret,\n",
    "                      user_agent='web-app:sentimentAnalysis:v1 (by /u/sakyawira)')"
   ]
  },
  {
   "cell_type": "markdown",
   "metadata": {},
   "source": [
    "Calling the API and building a dataframe from it"
   ]
  },
  {
   "cell_type": "code",
   "execution_count": 3,
   "metadata": {},
   "outputs": [],
   "source": [
    "EGS = reddit.subreddit('EpicGamesPC')\n",
    "\n",
    "# Select the top 500 posts, with their title, URL, body, upvotes, timestamp, \n",
    "# and an index that serves as a key between the posts and the comments we collect later.\n",
    "posts = []\n",
    "for index, post in enumerate(EGS.top(limit=500)):\n",
    "    posts.append([post.title, \"https://www.reddit.com\" + post.permalink, post.selftext, post.score, post.created_utc, index])\n",
    "\n",
    "# Convert to DataFrame\n",
    "posts = pd.DataFrame(posts, columns=['Title', 'URL', 'Body', 'Upvotes', 'Time', 'Key'])\n",
    "\n",
    "# Convert from UTC to standard timestamp\n",
    "posts.Time = posts.Time.apply(lambda x: pd.to_datetime(datetime.datetime.fromtimestamp(x)))\n",
    "\n",
    "# The first post is a sticky, so we can drop it\n",
    "posts = posts.iloc[1:]"
   ]
  },
  {
   "cell_type": "code",
   "execution_count": 4,
   "metadata": {},
   "outputs": [
    {
     "data": {
      "text/html": [
       "<div>\n",
       "<style scoped>\n",
       "    .dataframe tbody tr th:only-of-type {\n",
       "        vertical-align: middle;\n",
       "    }\n",
       "\n",
       "    .dataframe tbody tr th {\n",
       "        vertical-align: top;\n",
       "    }\n",
       "\n",
       "    .dataframe thead th {\n",
       "        text-align: right;\n",
       "    }\n",
       "</style>\n",
       "<table border=\"1\" class=\"dataframe\">\n",
       "  <thead>\n",
       "    <tr style=\"text-align: right;\">\n",
       "      <th></th>\n",
       "      <th>Title</th>\n",
       "      <th>URL</th>\n",
       "      <th>Body</th>\n",
       "      <th>Upvotes</th>\n",
       "      <th>Time</th>\n",
       "      <th>Key</th>\n",
       "    </tr>\n",
       "  </thead>\n",
       "  <tbody>\n",
       "    <tr>\n",
       "      <th>1</th>\n",
       "      <td>That time of the week again boys</td>\n",
       "      <td>https://www.reddit.com/r/EpicGamesPC/comments/...</td>\n",
       "      <td></td>\n",
       "      <td>1050</td>\n",
       "      <td>2020-05-22 04:34:25</td>\n",
       "      <td>1</td>\n",
       "    </tr>\n",
       "    <tr>\n",
       "      <th>2</th>\n",
       "      <td>Bonjour 🐻</td>\n",
       "      <td>https://www.reddit.com/r/EpicGamesPC/comments/...</td>\n",
       "      <td></td>\n",
       "      <td>853</td>\n",
       "      <td>2020-08-06 17:03:10</td>\n",
       "      <td>2</td>\n",
       "    </tr>\n",
       "    <tr>\n",
       "      <th>3</th>\n",
       "      <td>It's been a week, and I'm impatient</td>\n",
       "      <td>https://www.reddit.com/r/EpicGamesPC/comments/...</td>\n",
       "      <td></td>\n",
       "      <td>823</td>\n",
       "      <td>2020-06-26 03:31:24</td>\n",
       "      <td>3</td>\n",
       "    </tr>\n",
       "  </tbody>\n",
       "</table>\n",
       "</div>"
      ],
      "text/plain": [
       "                                 Title  \\\n",
       "1     That time of the week again boys   \n",
       "2                            Bonjour 🐻   \n",
       "3  It's been a week, and I'm impatient   \n",
       "\n",
       "                                                 URL Body  Upvotes  \\\n",
       "1  https://www.reddit.com/r/EpicGamesPC/comments/...          1050   \n",
       "2  https://www.reddit.com/r/EpicGamesPC/comments/...           853   \n",
       "3  https://www.reddit.com/r/EpicGamesPC/comments/...           823   \n",
       "\n",
       "                 Time  Key  \n",
       "1 2020-05-22 04:34:25    1  \n",
       "2 2020-08-06 17:03:10    2  \n",
       "3 2020-06-26 03:31:24    3  "
      ]
     },
     "execution_count": 4,
     "metadata": {},
     "output_type": "execute_result"
    }
   ],
   "source": [
    "posts.head(3)"
   ]
  },
  {
   "cell_type": "code",
   "execution_count": 5,
   "metadata": {},
   "outputs": [
    {
     "data": {
      "text/plain": [
       "(499, 6)"
      ]
     },
     "execution_count": 5,
     "metadata": {},
     "output_type": "execute_result"
    }
   ],
   "source": [
    "posts.shape"
   ]
  },
  {
   "cell_type": "markdown",
   "metadata": {},
   "source": [
    "### Collecting the comments for each of our posts"
   ]
  },
  {
   "cell_type": "markdown",
   "metadata": {},
   "source": [
    "We want to get all the comments for the posts we collected"
   ]
  },
  {
   "cell_type": "code",
   "execution_count": 6,
   "metadata": {},
   "outputs": [],
   "source": [
    "def collect_replies(key, url):\n",
    "    ''' \n",
    "    params pandas series row: each row of the dataframe we built above in the form of a panda series\n",
    "    Returns a pandas DataFrame, where each row represents an individual comment\n",
    "    '''\n",
    "    submission = reddit.submission(url=url)\n",
    "    submission.comments.replace_more(limit=None)\n",
    "    comment_queue = submission.comments[:] \n",
    "\n",
    "    table = {'Reply':[], 'Upvote':[], 'Time':[], 'Key':[]}\n",
    "\n",
    "    while comment_queue:\n",
    "        comment = comment_queue.pop(0)\n",
    "        table['Reply'].append(comment.body)\n",
    "        table['Time'].append(comment.created_utc)\n",
    "        table['Upvote'].append(comment.score)\n",
    "        table['Key'].append(key)\n",
    "        comment_queue.extend(comment.replies)\n",
    "    \n",
    "    return pd.DataFrame.from_dict(table)"
   ]
  },
  {
   "cell_type": "markdown",
   "metadata": {},
   "source": [
    "Now the function has been defined, we create our dataframe of comments. Using list comprehensions will speed things up slightly"
   ]
  },
  {
   "cell_type": "code",
   "execution_count": 7,
   "metadata": {},
   "outputs": [],
   "source": [
    "# Generate a list of tuples that contains the Key and URL for each row - \n",
    "# the first value of the tuple is the Key, and the second value is the URL\n",
    "\n",
    "keys = posts.Key.tolist()\n",
    "urls = posts.URL.tolist()\n",
    "tupules = list(zip(keys, urls))\n",
    "\n",
    "# Generate 'Comments' data-frame using list comprehensions\n",
    "comments = pd.concat([collect_replies(x[0], x[1]) for x in tupules])"
   ]
  },
  {
   "cell_type": "code",
   "execution_count": 8,
   "metadata": {},
   "outputs": [],
   "source": [
    "# Convert from UTC to standard timestamp\n",
    "comments.Time = comments.Time.apply(lambda x: pd.to_datetime(datetime.datetime.fromtimestamp(x)))"
   ]
  },
  {
   "cell_type": "code",
   "execution_count": 9,
   "metadata": {},
   "outputs": [
    {
     "data": {
      "text/html": [
       "<div>\n",
       "<style scoped>\n",
       "    .dataframe tbody tr th:only-of-type {\n",
       "        vertical-align: middle;\n",
       "    }\n",
       "\n",
       "    .dataframe tbody tr th {\n",
       "        vertical-align: top;\n",
       "    }\n",
       "\n",
       "    .dataframe thead th {\n",
       "        text-align: right;\n",
       "    }\n",
       "</style>\n",
       "<table border=\"1\" class=\"dataframe\">\n",
       "  <thead>\n",
       "    <tr style=\"text-align: right;\">\n",
       "      <th></th>\n",
       "      <th>Reply</th>\n",
       "      <th>Upvote</th>\n",
       "      <th>Time</th>\n",
       "      <th>Key</th>\n",
       "    </tr>\n",
       "  </thead>\n",
       "  <tbody>\n",
       "    <tr>\n",
       "      <th>0</th>\n",
       "      <td>I just did my first purchase from epic, I got ...</td>\n",
       "      <td>24.0</td>\n",
       "      <td>2020-05-22 12:37:51</td>\n",
       "      <td>1.0</td>\n",
       "    </tr>\n",
       "    <tr>\n",
       "      <th>1</th>\n",
       "      <td>Actually i already bought 3 games on epic:\\nTh...</td>\n",
       "      <td>8.0</td>\n",
       "      <td>2020-05-22 12:45:06</td>\n",
       "      <td>1.0</td>\n",
       "    </tr>\n",
       "    <tr>\n",
       "      <th>2</th>\n",
       "      <td>me who got the 80th game for free :)</td>\n",
       "      <td>7.0</td>\n",
       "      <td>2020-05-22 14:11:36</td>\n",
       "      <td>1.0</td>\n",
       "    </tr>\n",
       "  </tbody>\n",
       "</table>\n",
       "</div>"
      ],
      "text/plain": [
       "                                               Reply  Upvote  \\\n",
       "0  I just did my first purchase from epic, I got ...    24.0   \n",
       "1  Actually i already bought 3 games on epic:\\nTh...     8.0   \n",
       "2               me who got the 80th game for free :)     7.0   \n",
       "\n",
       "                 Time  Key  \n",
       "0 2020-05-22 12:37:51  1.0  \n",
       "1 2020-05-22 12:45:06  1.0  \n",
       "2 2020-05-22 14:11:36  1.0  "
      ]
     },
     "execution_count": 9,
     "metadata": {},
     "output_type": "execute_result"
    }
   ],
   "source": [
    "comments.head(3)"
   ]
  },
  {
   "cell_type": "code",
   "execution_count": 10,
   "metadata": {},
   "outputs": [
    {
     "data": {
      "text/plain": [
       "(24781, 4)"
      ]
     },
     "execution_count": 10,
     "metadata": {},
     "output_type": "execute_result"
    }
   ],
   "source": [
    "comments.shape"
   ]
  },
  {
   "cell_type": "code",
   "execution_count": 11,
   "metadata": {},
   "outputs": [],
   "source": [
    "comments.to_csv('CommentsEpic.csv', index=False)"
   ]
  },
  {
   "cell_type": "code",
   "execution_count": 12,
   "metadata": {},
   "outputs": [],
   "source": [
    "posts.to_csv('PostsEpic.csv', index=False)"
   ]
  }
 ],
 "metadata": {
  "kernelspec": {
   "display_name": "Python 3",
   "language": "python",
   "name": "python3"
  },
  "language_info": {
   "codemirror_mode": {
    "name": "ipython",
    "version": 3
   },
   "file_extension": ".py",
   "mimetype": "text/x-python",
   "name": "python",
   "nbconvert_exporter": "python",
   "pygments_lexer": "ipython3",
   "version": "3.8.5"
  }
 },
 "nbformat": 4,
 "nbformat_minor": 4
}
