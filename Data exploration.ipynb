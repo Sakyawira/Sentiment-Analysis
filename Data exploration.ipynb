{
 "cells": [
  {
   "cell_type": "code",
   "execution_count": 1,
   "metadata": {},
   "outputs": [
    {
     "name": "stderr",
     "output_type": "stream",
     "text": [
      "[nltk_data] Downloading package punkt to\n",
      "[nltk_data]     C:\\Users\\sakya\\AppData\\Roaming\\nltk_data...\n",
      "[nltk_data]   Package punkt is already up-to-date!\n"
     ]
    },
    {
     "data": {
      "text/plain": [
       "True"
      ]
     },
     "execution_count": 1,
     "metadata": {},
     "output_type": "execute_result"
    }
   ],
   "source": [
    "import re\n",
    "\n",
    "import pandas as pd\n",
    "import nltk\n",
    "nltk.download('punkt')"
   ]
  },
  {
   "cell_type": "code",
   "execution_count": 2,
   "metadata": {},
   "outputs": [],
   "source": [
    "comments = pd.read_csv('CommentsEpic.csv')"
   ]
  },
  {
   "cell_type": "markdown",
   "metadata": {},
   "source": [
    "## Data Cleaning and Exploration"
   ]
  },
  {
   "cell_type": "code",
   "execution_count": 3,
   "metadata": {},
   "outputs": [
    {
     "data": {
      "text/plain": [
       "'why is this same meme everywhere?'"
      ]
     },
     "execution_count": 3,
     "metadata": {},
     "output_type": "execute_result"
    }
   ],
   "source": [
    "sample = comments.Reply.iloc[10]\n",
    "sample"
   ]
  },
  {
   "cell_type": "code",
   "execution_count": 4,
   "metadata": {
    "scrolled": true
   },
   "outputs": [
    {
     "data": {
      "text/plain": [
       "'why is this same meme everywhere?'"
      ]
     },
     "execution_count": 4,
     "metadata": {},
     "output_type": "execute_result"
    }
   ],
   "source": [
    "re.sub(r'\\(?http\\S+', '', sample)"
   ]
  },
  {
   "cell_type": "markdown",
   "metadata": {},
   "source": [
    "Getting rid of \\n, \\t... etc characters that does not help with prediction but might link 2 words together and make them indistinguishable from one another"
   ]
  },
  {
   "cell_type": "code",
   "execution_count": 5,
   "metadata": {},
   "outputs": [
    {
     "data": {
      "text/plain": [
       "'Lol but true'"
      ]
     },
     "execution_count": 5,
     "metadata": {},
     "output_type": "execute_result"
    }
   ],
   "source": [
    "sample = comments.Reply.iloc[9]\n",
    "sample"
   ]
  },
  {
   "cell_type": "code",
   "execution_count": 6,
   "metadata": {},
   "outputs": [
    {
     "data": {
      "text/plain": [
       "['Lol', 'but', 'true']"
      ]
     },
     "execution_count": 6,
     "metadata": {},
     "output_type": "execute_result"
    }
   ],
   "source": [
    "word_tokenized = nltk.word_tokenize(sample)\n",
    "word_tokenized"
   ]
  },
  {
   "cell_type": "code",
   "execution_count": 7,
   "metadata": {},
   "outputs": [
    {
     "data": {
      "text/plain": [
       "'Lol but true'"
      ]
     },
     "execution_count": 7,
     "metadata": {},
     "output_type": "execute_result"
    }
   ],
   "source": [
    "' '.join(word_tokenized)"
   ]
  },
  {
   "cell_type": "markdown",
   "metadata": {},
   "source": [
    "#### Bigrams"
   ]
  },
  {
   "cell_type": "code",
   "execution_count": 8,
   "metadata": {},
   "outputs": [],
   "source": [
    "sample = ['Epic', 'Games', 'Store', 'is', 'an', 'epic', 'games', 'store']"
   ]
  },
  {
   "cell_type": "code",
   "execution_count": 9,
   "metadata": {},
   "outputs": [
    {
     "name": "stdout",
     "output_type": "stream",
     "text": [
      "[]\n"
     ]
    }
   ],
   "source": [
    "from nltk.collocations import *\n",
    "\n",
    "bigram_measures = nltk.collocations.BigramAssocMeasures()\n",
    "\n",
    "finder = BigramCollocationFinder.from_words(sample)\n",
    "\n",
    "# Find bigrams that appear 2+ times\n",
    "finder.apply_freq_filter(2) \n",
    "\n",
    "# Return the 10 n-grams with the highest PMI\n",
    "print (finder.nbest(bigram_measures.pmi, 10) )"
   ]
  },
  {
   "cell_type": "markdown",
   "metadata": {},
   "source": [
    "Let's try it on first 10000 rows of our text"
   ]
  },
  {
   "cell_type": "code",
   "execution_count": 10,
   "metadata": {},
   "outputs": [],
   "source": [
    "all_text = comments.iloc[:10000,:].Reply.str.cat(sep='. ')"
   ]
  },
  {
   "cell_type": "code",
   "execution_count": 11,
   "metadata": {},
   "outputs": [],
   "source": [
    "all_text = nltk.word_tokenize(all_text)"
   ]
  },
  {
   "cell_type": "code",
   "execution_count": 12,
   "metadata": {},
   "outputs": [
    {
     "name": "stdout",
     "output_type": "stream",
     "text": [
      "[('OTHERS', 'CLICKED'), ('Starter', 'Pack'), ('Theft', 'Auto'), ('Rocket', 'League'), ('task', 'manager'), ('Grand', 'Theft'), ('Criminal', 'Enterprise'), ('Unreal', 'Engine'), ('CLICKED', 'THIS'), ('shopping', 'cart')]\n"
     ]
    }
   ],
   "source": [
    "def common_bigrams(tokenized_text, min_freq, top_n):\n",
    "    bigram_measures = nltk.collocations.BigramAssocMeasures()\n",
    "    finder = BigramCollocationFinder.from_words(tokenized_text)\n",
    "    finder.apply_freq_filter(min_freq) \n",
    "    finder.nbest(bigram_measures.pmi, top_n)\n",
    "    return finder.nbest(bigram_measures.pmi, top_n)\n",
    "\n",
    "print(common_bigrams(all_text, 10, 10))"
   ]
  },
  {
   "cell_type": "markdown",
   "metadata": {},
   "source": [
    "#### Wordcloud"
   ]
  },
  {
   "cell_type": "code",
   "execution_count": 13,
   "metadata": {},
   "outputs": [],
   "source": [
    "import wordcloud\n",
    "from wordcloud import WordCloud, STOPWORDS\n",
    "import matplotlib.pyplot as plt\n",
    "\n",
    "sample = comments.iloc[:10000,:].Reply.str.cat(sep='. ')"
   ]
  },
  {
   "cell_type": "code",
   "execution_count": 14,
   "metadata": {},
   "outputs": [],
   "source": [
    "import random\n",
    "def grey_color_func(word, font_size, position, orientation, random_state=None, **kwargs):\n",
    "    return \"hsl(0, 0%%, %d%%)\" % random.randint(1, 20)"
   ]
  },
  {
   "cell_type": "code",
   "execution_count": 15,
   "metadata": {},
   "outputs": [
    {
     "data": {
      "image/png": "[encoded data removed]",
      "text/plain": [
       "<Figure size 720x1440 with 1 Axes>"
      ]
     },
     "metadata": {
      "needs_background": "light"
     },
     "output_type": "display_data"
    }
   ],
   "source": [
    "stp = STOPWORDS.copy()\n",
    "stp.add('game')\n",
    "wc = WordCloud(background_color=\"white\", max_words=50,  stopwords=stp)\n",
    "# Generate word cloud\n",
    "wc.generate(sample)\n",
    "\n",
    "plt.figure(figsize=(10,20))\n",
    "plt.imshow(wc.recolor(color_func=grey_color_func, random_state=3))\n",
    "plt.show()"
   ]
  },
  {
   "cell_type": "code",
   "execution_count": 16,
   "metadata": {},
   "outputs": [
    {
     "data": {
      "text/plain": [
       "(34129, 4)"
      ]
     },
     "execution_count": 16,
     "metadata": {},
     "output_type": "execute_result"
    }
   ],
   "source": [
    "# Uncomment to use a subset of the rows.\n",
    "df = comments #[comments.Key<101]\n",
    "df.shape"
   ]
  },
  {
   "cell_type": "code",
   "execution_count": 17,
   "metadata": {},
   "outputs": [],
   "source": [
    "# The cleaning steps as outlined earlier\n",
    "df.Reply = df.Reply.apply(lambda x: re.sub(r'\\(?http\\S+', '', x))\n",
    "df.Reply = df.Reply.apply(lambda x: ' '.join(nltk.word_tokenize(x)))"
   ]
  },
  {
   "cell_type": "markdown",
   "metadata": {},
   "source": [
    "## Sentiment Analysis"
   ]
  },
  {
   "cell_type": "markdown",
   "metadata": {},
   "source": [
    "- ### __Sentiment Classification using Vader package__"
   ]
  },
  {
   "cell_type": "code",
   "execution_count": 18,
   "metadata": {},
   "outputs": [
    {
     "name": "stderr",
     "output_type": "stream",
     "text": [
      "[nltk_data] Downloading package vader_lexicon to\n",
      "[nltk_data]     C:\\Users\\sakya\\AppData\\Roaming\\nltk_data...\n",
      "[nltk_data]   Package vader_lexicon is already up-to-date!\n"
     ]
    }
   ],
   "source": [
    "nltk.download('vader_lexicon')\n",
    "from nltk.sentiment.vader import SentimentIntensityAnalyzer, VaderConstants\n",
    "\n",
    "# Initialize VADER so we can use it within our Python script\n",
    "sid = SentimentIntensityAnalyzer()"
   ]
  },
  {
   "cell_type": "code",
   "execution_count": 19,
   "metadata": {
    "scrolled": true
   },
   "outputs": [
    {
     "data": {
      "text/plain": [
       "{'neg': 0.0, 'neu': 0.674, 'pos': 0.326, 'compound': 0.4404}"
      ]
     },
     "execution_count": 19,
     "metadata": {},
     "output_type": "execute_result"
    }
   ],
   "source": [
    "sid.polarity_scores('Epic Games Store is better than Steam')"
   ]
  },
  {
   "cell_type": "markdown",
   "metadata": {},
   "source": [
    "We can add sentiment scores to words manually if we want"
   ]
  },
  {
   "cell_type": "code",
   "execution_count": 20,
   "metadata": {},
   "outputs": [],
   "source": [
    "new_words = {\n",
    "    'Steam' : 0,\n",
    "    'Epic Games' : 0,\n",
    "}\n",
    "\n",
    "sid.lexicon.update(new_words)"
   ]
  },
  {
   "cell_type": "code",
   "execution_count": 21,
   "metadata": {
    "scrolled": true
   },
   "outputs": [
    {
     "data": {
      "text/plain": [
       "{'neg': 0.0, 'neu': 0.674, 'pos': 0.326, 'compound': 0.4404}"
      ]
     },
     "execution_count": 21,
     "metadata": {},
     "output_type": "execute_result"
    }
   ],
   "source": [
    "sid.polarity_scores('Epic Games Store is better than Steam')"
   ]
  },
  {
   "cell_type": "code",
   "execution_count": 22,
   "metadata": {},
   "outputs": [],
   "source": [
    "df[['vdr neg','vdr neu','vdr pos','vdr compound']] = df.Reply.apply(lambda x: pd.Series(sid.polarity_scores(x)))"
   ]
  },
  {
   "cell_type": "code",
   "execution_count": 23,
   "metadata": {},
   "outputs": [
    {
     "data": {
      "text/html": [
       "<div>\n",
       "<style scoped>\n",
       "    .dataframe tbody tr th:only-of-type {\n",
       "        vertical-align: middle;\n",
       "    }\n",
       "\n",
       "    .dataframe tbody tr th {\n",
       "        vertical-align: top;\n",
       "    }\n",
       "\n",
       "    .dataframe thead th {\n",
       "        text-align: right;\n",
       "    }\n",
       "</style>\n",
       "<table border=\"1\" class=\"dataframe\">\n",
       "  <thead>\n",
       "    <tr style=\"text-align: right;\">\n",
       "      <th></th>\n",
       "      <th>Reply</th>\n",
       "      <th>Upvote</th>\n",
       "      <th>Time</th>\n",
       "      <th>Key</th>\n",
       "      <th>vdr neg</th>\n",
       "      <th>vdr neu</th>\n",
       "      <th>vdr pos</th>\n",
       "      <th>vdr compound</th>\n",
       "    </tr>\n",
       "  </thead>\n",
       "  <tbody>\n",
       "    <tr>\n",
       "      <th>0</th>\n",
       "      <td>I just did my first purchase from epic , I got...</td>\n",
       "      <td>28.0</td>\n",
       "      <td>2020-05-22 12:37:51</td>\n",
       "      <td>1.0</td>\n",
       "      <td>0.140</td>\n",
       "      <td>0.860</td>\n",
       "      <td>0.000</td>\n",
       "      <td>-0.4168</td>\n",
       "    </tr>\n",
       "    <tr>\n",
       "      <th>1</th>\n",
       "      <td>Actually i already bought 3 games on epic : Th...</td>\n",
       "      <td>8.0</td>\n",
       "      <td>2020-05-22 12:45:06</td>\n",
       "      <td>1.0</td>\n",
       "      <td>0.185</td>\n",
       "      <td>0.736</td>\n",
       "      <td>0.079</td>\n",
       "      <td>-0.6369</td>\n",
       "    </tr>\n",
       "    <tr>\n",
       "      <th>2</th>\n",
       "      <td>me who got the 80th game for free : )</td>\n",
       "      <td>6.0</td>\n",
       "      <td>2020-05-22 14:11:36</td>\n",
       "      <td>1.0</td>\n",
       "      <td>0.000</td>\n",
       "      <td>0.680</td>\n",
       "      <td>0.320</td>\n",
       "      <td>0.5106</td>\n",
       "    </tr>\n",
       "  </tbody>\n",
       "</table>\n",
       "</div>"
      ],
      "text/plain": [
       "                                               Reply  Upvote  \\\n",
       "0  I just did my first purchase from epic , I got...    28.0   \n",
       "1  Actually i already bought 3 games on epic : Th...     8.0   \n",
       "2              me who got the 80th game for free : )     6.0   \n",
       "\n",
       "                  Time  Key  vdr neg  vdr neu  vdr pos  vdr compound  \n",
       "0  2020-05-22 12:37:51  1.0    0.140    0.860    0.000       -0.4168  \n",
       "1  2020-05-22 12:45:06  1.0    0.185    0.736    0.079       -0.6369  \n",
       "2  2020-05-22 14:11:36  1.0    0.000    0.680    0.320        0.5106  "
      ]
     },
     "execution_count": 23,
     "metadata": {},
     "output_type": "execute_result"
    }
   ],
   "source": [
    "df.head(3)"
   ]
  },
  {
   "cell_type": "code",
   "execution_count": 24,
   "metadata": {},
   "outputs": [
    {
     "data": {
      "text/html": [
       "<div>\n",
       "<style scoped>\n",
       "    .dataframe tbody tr th:only-of-type {\n",
       "        vertical-align: middle;\n",
       "    }\n",
       "\n",
       "    .dataframe tbody tr th {\n",
       "        vertical-align: top;\n",
       "    }\n",
       "\n",
       "    .dataframe thead th {\n",
       "        text-align: right;\n",
       "    }\n",
       "</style>\n",
       "<table border=\"1\" class=\"dataframe\">\n",
       "  <thead>\n",
       "    <tr style=\"text-align: right;\">\n",
       "      <th></th>\n",
       "      <th>Upvote</th>\n",
       "      <th>Key</th>\n",
       "      <th>vdr neg</th>\n",
       "      <th>vdr neu</th>\n",
       "      <th>vdr pos</th>\n",
       "      <th>vdr compound</th>\n",
       "    </tr>\n",
       "  </thead>\n",
       "  <tbody>\n",
       "    <tr>\n",
       "      <th>count</th>\n",
       "      <td>34129.000000</td>\n",
       "      <td>34129.000000</td>\n",
       "      <td>34129.000000</td>\n",
       "      <td>34129.000000</td>\n",
       "      <td>34129.000000</td>\n",
       "      <td>34129.000000</td>\n",
       "    </tr>\n",
       "    <tr>\n",
       "      <th>mean</th>\n",
       "      <td>2.661900</td>\n",
       "      <td>337.082510</td>\n",
       "      <td>0.065284</td>\n",
       "      <td>0.790034</td>\n",
       "      <td>0.141019</td>\n",
       "      <td>0.161088</td>\n",
       "    </tr>\n",
       "    <tr>\n",
       "      <th>std</th>\n",
       "      <td>6.115684</td>\n",
       "      <td>271.797193</td>\n",
       "      <td>0.119240</td>\n",
       "      <td>0.214182</td>\n",
       "      <td>0.190306</td>\n",
       "      <td>0.447203</td>\n",
       "    </tr>\n",
       "    <tr>\n",
       "      <th>min</th>\n",
       "      <td>-46.000000</td>\n",
       "      <td>1.000000</td>\n",
       "      <td>0.000000</td>\n",
       "      <td>0.000000</td>\n",
       "      <td>0.000000</td>\n",
       "      <td>-0.993200</td>\n",
       "    </tr>\n",
       "    <tr>\n",
       "      <th>25%</th>\n",
       "      <td>1.000000</td>\n",
       "      <td>111.000000</td>\n",
       "      <td>0.000000</td>\n",
       "      <td>0.694000</td>\n",
       "      <td>0.000000</td>\n",
       "      <td>0.000000</td>\n",
       "    </tr>\n",
       "    <tr>\n",
       "      <th>50%</th>\n",
       "      <td>1.000000</td>\n",
       "      <td>263.000000</td>\n",
       "      <td>0.000000</td>\n",
       "      <td>0.828000</td>\n",
       "      <td>0.084000</td>\n",
       "      <td>0.000000</td>\n",
       "    </tr>\n",
       "    <tr>\n",
       "      <th>75%</th>\n",
       "      <td>3.000000</td>\n",
       "      <td>527.000000</td>\n",
       "      <td>0.095000</td>\n",
       "      <td>1.000000</td>\n",
       "      <td>0.206000</td>\n",
       "      <td>0.510600</td>\n",
       "    </tr>\n",
       "    <tr>\n",
       "      <th>max</th>\n",
       "      <td>216.000000</td>\n",
       "      <td>994.000000</td>\n",
       "      <td>1.000000</td>\n",
       "      <td>1.000000</td>\n",
       "      <td>1.000000</td>\n",
       "      <td>0.999100</td>\n",
       "    </tr>\n",
       "  </tbody>\n",
       "</table>\n",
       "</div>"
      ],
      "text/plain": [
       "             Upvote           Key       vdr neg       vdr neu       vdr pos  \\\n",
       "count  34129.000000  34129.000000  34129.000000  34129.000000  34129.000000   \n",
       "mean       2.661900    337.082510      0.065284      0.790034      0.141019   \n",
       "std        6.115684    271.797193      0.119240      0.214182      0.190306   \n",
       "min      -46.000000      1.000000      0.000000      0.000000      0.000000   \n",
       "25%        1.000000    111.000000      0.000000      0.694000      0.000000   \n",
       "50%        1.000000    263.000000      0.000000      0.828000      0.084000   \n",
       "75%        3.000000    527.000000      0.095000      1.000000      0.206000   \n",
       "max      216.000000    994.000000      1.000000      1.000000      1.000000   \n",
       "\n",
       "       vdr compound  \n",
       "count  34129.000000  \n",
       "mean       0.161088  \n",
       "std        0.447203  \n",
       "min       -0.993200  \n",
       "25%        0.000000  \n",
       "50%        0.000000  \n",
       "75%        0.510600  \n",
       "max        0.999100  "
      ]
     },
     "execution_count": 24,
     "metadata": {},
     "output_type": "execute_result"
    }
   ],
   "source": [
    "df.describe()"
   ]
  },
  {
   "cell_type": "markdown",
   "metadata": {},
   "source": [
    "- ### Sentiment Classification using Textblob package"
   ]
  },
  {
   "cell_type": "code",
   "execution_count": 25,
   "metadata": {},
   "outputs": [],
   "source": [
    "from textblob.sentiments import NaiveBayesAnalyzer, PatternAnalyzer\n",
    "from textblob import Blobber\n",
    "tba = Blobber(analyzer=NaiveBayesAnalyzer())"
   ]
  },
  {
   "cell_type": "code",
   "execution_count": 26,
   "metadata": {},
   "outputs": [
    {
     "name": "stderr",
     "output_type": "stream",
     "text": [
      "[nltk_data] Downloading package movie_reviews to\n",
      "[nltk_data]     C:\\Users\\sakya\\AppData\\Roaming\\nltk_data...\n",
      "[nltk_data]   Package movie_reviews is already up-to-date!\n"
     ]
    },
    {
     "data": {
      "text/plain": [
       "Sentiment(classification='neg', p_pos=0.374939442175929, p_neg=0.6250605578240714)"
      ]
     },
     "execution_count": 26,
     "metadata": {},
     "output_type": "execute_result"
    }
   ],
   "source": [
    "nltk.download('movie_reviews')\n",
    "tba('My life is a frictionless slide downhill').sentiment"
   ]
  },
  {
   "cell_type": "code",
   "execution_count": 27,
   "metadata": {},
   "outputs": [],
   "source": [
    "df[['TB Classification','TB pos','TB neg']] = df.Reply.apply(lambda x: pd.Series({'Classification':tba(x).sentiment[0],\n",
    "                                                                        'positive':tba(x).sentiment[1],\n",
    "                                                                        'negative':tba(x).sentiment[2]}))"
   ]
  },
  {
   "cell_type": "code",
   "execution_count": 28,
   "metadata": {
    "scrolled": true
   },
   "outputs": [
    {
     "data": {
      "text/html": [
       "<div>\n",
       "<style scoped>\n",
       "    .dataframe tbody tr th:only-of-type {\n",
       "        vertical-align: middle;\n",
       "    }\n",
       "\n",
       "    .dataframe tbody tr th {\n",
       "        vertical-align: top;\n",
       "    }\n",
       "\n",
       "    .dataframe thead th {\n",
       "        text-align: right;\n",
       "    }\n",
       "</style>\n",
       "<table border=\"1\" class=\"dataframe\">\n",
       "  <thead>\n",
       "    <tr style=\"text-align: right;\">\n",
       "      <th></th>\n",
       "      <th>Reply</th>\n",
       "      <th>Upvote</th>\n",
       "      <th>Time</th>\n",
       "      <th>Key</th>\n",
       "      <th>vdr neg</th>\n",
       "      <th>vdr neu</th>\n",
       "      <th>vdr pos</th>\n",
       "      <th>vdr compound</th>\n",
       "      <th>TB Classification</th>\n",
       "      <th>TB pos</th>\n",
       "      <th>TB neg</th>\n",
       "    </tr>\n",
       "  </thead>\n",
       "  <tbody>\n",
       "    <tr>\n",
       "      <th>0</th>\n",
       "      <td>I just did my first purchase from epic , I got...</td>\n",
       "      <td>28.0</td>\n",
       "      <td>2020-05-22 12:37:51</td>\n",
       "      <td>1.0</td>\n",
       "      <td>0.140</td>\n",
       "      <td>0.860</td>\n",
       "      <td>0.000</td>\n",
       "      <td>-0.4168</td>\n",
       "      <td>pos</td>\n",
       "      <td>0.742065</td>\n",
       "      <td>0.257935</td>\n",
       "    </tr>\n",
       "    <tr>\n",
       "      <th>1</th>\n",
       "      <td>Actually i already bought 3 games on epic : Th...</td>\n",
       "      <td>8.0</td>\n",
       "      <td>2020-05-22 12:45:06</td>\n",
       "      <td>1.0</td>\n",
       "      <td>0.185</td>\n",
       "      <td>0.736</td>\n",
       "      <td>0.079</td>\n",
       "      <td>-0.6369</td>\n",
       "      <td>pos</td>\n",
       "      <td>0.866839</td>\n",
       "      <td>0.133161</td>\n",
       "    </tr>\n",
       "    <tr>\n",
       "      <th>2</th>\n",
       "      <td>me who got the 80th game for free : )</td>\n",
       "      <td>6.0</td>\n",
       "      <td>2020-05-22 14:11:36</td>\n",
       "      <td>1.0</td>\n",
       "      <td>0.000</td>\n",
       "      <td>0.680</td>\n",
       "      <td>0.320</td>\n",
       "      <td>0.5106</td>\n",
       "      <td>neg</td>\n",
       "      <td>0.497501</td>\n",
       "      <td>0.502499</td>\n",
       "    </tr>\n",
       "  </tbody>\n",
       "</table>\n",
       "</div>"
      ],
      "text/plain": [
       "                                               Reply  Upvote  \\\n",
       "0  I just did my first purchase from epic , I got...    28.0   \n",
       "1  Actually i already bought 3 games on epic : Th...     8.0   \n",
       "2              me who got the 80th game for free : )     6.0   \n",
       "\n",
       "                  Time  Key  vdr neg  vdr neu  vdr pos  vdr compound  \\\n",
       "0  2020-05-22 12:37:51  1.0    0.140    0.860    0.000       -0.4168   \n",
       "1  2020-05-22 12:45:06  1.0    0.185    0.736    0.079       -0.6369   \n",
       "2  2020-05-22 14:11:36  1.0    0.000    0.680    0.320        0.5106   \n",
       "\n",
       "  TB Classification    TB pos    TB neg  \n",
       "0               pos  0.742065  0.257935  \n",
       "1               pos  0.866839  0.133161  \n",
       "2               neg  0.497501  0.502499  "
      ]
     },
     "execution_count": 28,
     "metadata": {},
     "output_type": "execute_result"
    }
   ],
   "source": [
    "df.head(3)"
   ]
  },
  {
   "cell_type": "code",
   "execution_count": 29,
   "metadata": {},
   "outputs": [
    {
     "data": {
      "text/html": [
       "<div>\n",
       "<style scoped>\n",
       "    .dataframe tbody tr th:only-of-type {\n",
       "        vertical-align: middle;\n",
       "    }\n",
       "\n",
       "    .dataframe tbody tr th {\n",
       "        vertical-align: top;\n",
       "    }\n",
       "\n",
       "    .dataframe thead th {\n",
       "        text-align: right;\n",
       "    }\n",
       "</style>\n",
       "<table border=\"1\" class=\"dataframe\">\n",
       "  <thead>\n",
       "    <tr style=\"text-align: right;\">\n",
       "      <th></th>\n",
       "      <th>Upvote</th>\n",
       "      <th>Key</th>\n",
       "      <th>vdr neg</th>\n",
       "      <th>vdr neu</th>\n",
       "      <th>vdr pos</th>\n",
       "      <th>vdr compound</th>\n",
       "      <th>TB pos</th>\n",
       "      <th>TB neg</th>\n",
       "    </tr>\n",
       "  </thead>\n",
       "  <tbody>\n",
       "    <tr>\n",
       "      <th>count</th>\n",
       "      <td>34129.000000</td>\n",
       "      <td>34129.000000</td>\n",
       "      <td>34129.000000</td>\n",
       "      <td>34129.000000</td>\n",
       "      <td>34129.000000</td>\n",
       "      <td>34129.000000</td>\n",
       "      <td>3.412900e+04</td>\n",
       "      <td>3.412900e+04</td>\n",
       "    </tr>\n",
       "    <tr>\n",
       "      <th>mean</th>\n",
       "      <td>2.661900</td>\n",
       "      <td>337.082510</td>\n",
       "      <td>0.065284</td>\n",
       "      <td>0.790034</td>\n",
       "      <td>0.141019</td>\n",
       "      <td>0.161088</td>\n",
       "      <td>5.690029e-01</td>\n",
       "      <td>4.309971e-01</td>\n",
       "    </tr>\n",
       "    <tr>\n",
       "      <th>std</th>\n",
       "      <td>6.115684</td>\n",
       "      <td>271.797193</td>\n",
       "      <td>0.119240</td>\n",
       "      <td>0.214182</td>\n",
       "      <td>0.190306</td>\n",
       "      <td>0.447203</td>\n",
       "      <td>2.683054e-01</td>\n",
       "      <td>2.683054e-01</td>\n",
       "    </tr>\n",
       "    <tr>\n",
       "      <th>min</th>\n",
       "      <td>-46.000000</td>\n",
       "      <td>1.000000</td>\n",
       "      <td>0.000000</td>\n",
       "      <td>0.000000</td>\n",
       "      <td>0.000000</td>\n",
       "      <td>-0.993200</td>\n",
       "      <td>1.682455e-07</td>\n",
       "      <td>8.749978e-27</td>\n",
       "    </tr>\n",
       "    <tr>\n",
       "      <th>25%</th>\n",
       "      <td>1.000000</td>\n",
       "      <td>111.000000</td>\n",
       "      <td>0.000000</td>\n",
       "      <td>0.694000</td>\n",
       "      <td>0.000000</td>\n",
       "      <td>0.000000</td>\n",
       "      <td>3.879625e-01</td>\n",
       "      <td>2.159847e-01</td>\n",
       "    </tr>\n",
       "    <tr>\n",
       "      <th>50%</th>\n",
       "      <td>1.000000</td>\n",
       "      <td>263.000000</td>\n",
       "      <td>0.000000</td>\n",
       "      <td>0.828000</td>\n",
       "      <td>0.084000</td>\n",
       "      <td>0.000000</td>\n",
       "      <td>5.566975e-01</td>\n",
       "      <td>4.433025e-01</td>\n",
       "    </tr>\n",
       "    <tr>\n",
       "      <th>75%</th>\n",
       "      <td>3.000000</td>\n",
       "      <td>527.000000</td>\n",
       "      <td>0.095000</td>\n",
       "      <td>1.000000</td>\n",
       "      <td>0.206000</td>\n",
       "      <td>0.510600</td>\n",
       "      <td>7.840153e-01</td>\n",
       "      <td>6.120375e-01</td>\n",
       "    </tr>\n",
       "    <tr>\n",
       "      <th>max</th>\n",
       "      <td>216.000000</td>\n",
       "      <td>994.000000</td>\n",
       "      <td>1.000000</td>\n",
       "      <td>1.000000</td>\n",
       "      <td>1.000000</td>\n",
       "      <td>0.999100</td>\n",
       "      <td>1.000000e+00</td>\n",
       "      <td>9.999998e-01</td>\n",
       "    </tr>\n",
       "  </tbody>\n",
       "</table>\n",
       "</div>"
      ],
      "text/plain": [
       "             Upvote           Key       vdr neg       vdr neu       vdr pos  \\\n",
       "count  34129.000000  34129.000000  34129.000000  34129.000000  34129.000000   \n",
       "mean       2.661900    337.082510      0.065284      0.790034      0.141019   \n",
       "std        6.115684    271.797193      0.119240      0.214182      0.190306   \n",
       "min      -46.000000      1.000000      0.000000      0.000000      0.000000   \n",
       "25%        1.000000    111.000000      0.000000      0.694000      0.000000   \n",
       "50%        1.000000    263.000000      0.000000      0.828000      0.084000   \n",
       "75%        3.000000    527.000000      0.095000      1.000000      0.206000   \n",
       "max      216.000000    994.000000      1.000000      1.000000      1.000000   \n",
       "\n",
       "       vdr compound        TB pos        TB neg  \n",
       "count  34129.000000  3.412900e+04  3.412900e+04  \n",
       "mean       0.161088  5.690029e-01  4.309971e-01  \n",
       "std        0.447203  2.683054e-01  2.683054e-01  \n",
       "min       -0.993200  1.682455e-07  8.749978e-27  \n",
       "25%        0.000000  3.879625e-01  2.159847e-01  \n",
       "50%        0.000000  5.566975e-01  4.433025e-01  \n",
       "75%        0.510600  7.840153e-01  6.120375e-01  \n",
       "max        0.999100  1.000000e+00  9.999998e-01  "
      ]
     },
     "execution_count": 29,
     "metadata": {},
     "output_type": "execute_result"
    }
   ],
   "source": [
    "df.describe()"
   ]
  },
  {
   "cell_type": "code",
   "execution_count": 30,
   "metadata": {},
   "outputs": [
    {
     "data": {
      "text/plain": [
       "pos    21128\n",
       "neg    13001\n",
       "Name: TB Classification, dtype: int64"
      ]
     },
     "execution_count": 30,
     "metadata": {},
     "output_type": "execute_result"
    }
   ],
   "source": [
    "df['TB Classification'].value_counts()"
   ]
  },
  {
   "cell_type": "markdown",
   "metadata": {},
   "source": [
    "- ### Sentiment Classification using Self-Trained Classifier Module for Kaggle"
   ]
  },
  {
   "cell_type": "code",
   "execution_count": 31,
   "metadata": {},
   "outputs": [
    {
     "name": "stderr",
     "output_type": "stream",
     "text": [
      "[nltk_data] Downloading package punkt to\n",
      "[nltk_data]     C:\\Users\\sakya\\AppData\\Roaming\\nltk_data...\n",
      "[nltk_data]   Package punkt is already up-to-date!\n"
     ]
    }
   ],
   "source": [
    "import import_ipynb\n",
    "%run Kaggle_Trained_Classifier.ipynb"
   ]
  },
  {
   "cell_type": "code",
   "execution_count": 32,
   "metadata": {},
   "outputs": [],
   "source": [
    "Z = vectorizer.transform(df['Reply'])"
   ]
  },
  {
   "cell_type": "code",
   "execution_count": 33,
   "metadata": {},
   "outputs": [],
   "source": [
    "predicted2 = nb.predict(Z)"
   ]
  },
  {
   "cell_type": "code",
   "execution_count": 34,
   "metadata": {},
   "outputs": [],
   "source": [
    "df2 = df"
   ]
  },
  {
   "cell_type": "code",
   "execution_count": 35,
   "metadata": {},
   "outputs": [],
   "source": [
    "df2['Classification for Kaggle'] = predicted2"
   ]
  },
  {
   "cell_type": "code",
   "execution_count": 36,
   "metadata": {},
   "outputs": [
    {
     "data": {
      "text/html": [
       "<div>\n",
       "<style scoped>\n",
       "    .dataframe tbody tr th:only-of-type {\n",
       "        vertical-align: middle;\n",
       "    }\n",
       "\n",
       "    .dataframe tbody tr th {\n",
       "        vertical-align: top;\n",
       "    }\n",
       "\n",
       "    .dataframe thead th {\n",
       "        text-align: right;\n",
       "    }\n",
       "</style>\n",
       "<table border=\"1\" class=\"dataframe\">\n",
       "  <thead>\n",
       "    <tr style=\"text-align: right;\">\n",
       "      <th></th>\n",
       "      <th>Reply</th>\n",
       "      <th>Upvote</th>\n",
       "      <th>Time</th>\n",
       "      <th>Key</th>\n",
       "      <th>vdr neg</th>\n",
       "      <th>vdr neu</th>\n",
       "      <th>vdr pos</th>\n",
       "      <th>vdr compound</th>\n",
       "      <th>TB Classification</th>\n",
       "      <th>TB pos</th>\n",
       "      <th>TB neg</th>\n",
       "      <th>Classification for Kaggle</th>\n",
       "    </tr>\n",
       "  </thead>\n",
       "  <tbody>\n",
       "    <tr>\n",
       "      <th>0</th>\n",
       "      <td>I just did my first purchase from epic , I got...</td>\n",
       "      <td>28.0</td>\n",
       "      <td>2020-05-22 12:37:51</td>\n",
       "      <td>1.0</td>\n",
       "      <td>0.140</td>\n",
       "      <td>0.860</td>\n",
       "      <td>0.000</td>\n",
       "      <td>-0.4168</td>\n",
       "      <td>pos</td>\n",
       "      <td>0.742065</td>\n",
       "      <td>0.257935</td>\n",
       "      <td>neutral</td>\n",
       "    </tr>\n",
       "    <tr>\n",
       "      <th>1</th>\n",
       "      <td>Actually i already bought 3 games on epic : Th...</td>\n",
       "      <td>8.0</td>\n",
       "      <td>2020-05-22 12:45:06</td>\n",
       "      <td>1.0</td>\n",
       "      <td>0.185</td>\n",
       "      <td>0.736</td>\n",
       "      <td>0.079</td>\n",
       "      <td>-0.6369</td>\n",
       "      <td>pos</td>\n",
       "      <td>0.866839</td>\n",
       "      <td>0.133161</td>\n",
       "      <td>neutral</td>\n",
       "    </tr>\n",
       "    <tr>\n",
       "      <th>2</th>\n",
       "      <td>me who got the 80th game for free : )</td>\n",
       "      <td>6.0</td>\n",
       "      <td>2020-05-22 14:11:36</td>\n",
       "      <td>1.0</td>\n",
       "      <td>0.000</td>\n",
       "      <td>0.680</td>\n",
       "      <td>0.320</td>\n",
       "      <td>0.5106</td>\n",
       "      <td>neg</td>\n",
       "      <td>0.497501</td>\n",
       "      <td>0.502499</td>\n",
       "      <td>neutral</td>\n",
       "    </tr>\n",
       "    <tr>\n",
       "      <th>3</th>\n",
       "      <td>I 'm watching the office as I upvote this post</td>\n",
       "      <td>17.0</td>\n",
       "      <td>2020-05-22 10:17:32</td>\n",
       "      <td>1.0</td>\n",
       "      <td>0.000</td>\n",
       "      <td>1.000</td>\n",
       "      <td>0.000</td>\n",
       "      <td>0.0000</td>\n",
       "      <td>neg</td>\n",
       "      <td>0.381604</td>\n",
       "      <td>0.618396</td>\n",
       "      <td>neutral</td>\n",
       "    </tr>\n",
       "    <tr>\n",
       "      <th>4</th>\n",
       "      <td>damn , so true 😂 They earn a lot by showing to...</td>\n",
       "      <td>3.0</td>\n",
       "      <td>2020-05-22 17:11:35</td>\n",
       "      <td>1.0</td>\n",
       "      <td>0.112</td>\n",
       "      <td>0.623</td>\n",
       "      <td>0.265</td>\n",
       "      <td>0.5709</td>\n",
       "      <td>neg</td>\n",
       "      <td>0.210738</td>\n",
       "      <td>0.789262</td>\n",
       "      <td>positive</td>\n",
       "    </tr>\n",
       "  </tbody>\n",
       "</table>\n",
       "</div>"
      ],
      "text/plain": [
       "                                               Reply  Upvote  \\\n",
       "0  I just did my first purchase from epic , I got...    28.0   \n",
       "1  Actually i already bought 3 games on epic : Th...     8.0   \n",
       "2              me who got the 80th game for free : )     6.0   \n",
       "3     I 'm watching the office as I upvote this post    17.0   \n",
       "4  damn , so true 😂 They earn a lot by showing to...     3.0   \n",
       "\n",
       "                  Time  Key  vdr neg  vdr neu  vdr pos  vdr compound  \\\n",
       "0  2020-05-22 12:37:51  1.0    0.140    0.860    0.000       -0.4168   \n",
       "1  2020-05-22 12:45:06  1.0    0.185    0.736    0.079       -0.6369   \n",
       "2  2020-05-22 14:11:36  1.0    0.000    0.680    0.320        0.5106   \n",
       "3  2020-05-22 10:17:32  1.0    0.000    1.000    0.000        0.0000   \n",
       "4  2020-05-22 17:11:35  1.0    0.112    0.623    0.265        0.5709   \n",
       "\n",
       "  TB Classification    TB pos    TB neg Classification for Kaggle  \n",
       "0               pos  0.742065  0.257935                   neutral  \n",
       "1               pos  0.866839  0.133161                   neutral  \n",
       "2               neg  0.497501  0.502499                   neutral  \n",
       "3               neg  0.381604  0.618396                   neutral  \n",
       "4               neg  0.210738  0.789262                  positive  "
      ]
     },
     "execution_count": 36,
     "metadata": {},
     "output_type": "execute_result"
    }
   ],
   "source": [
    "df2.head()"
   ]
  },
  {
   "cell_type": "code",
   "execution_count": 37,
   "metadata": {},
   "outputs": [
    {
     "data": {
      "text/plain": [
       "(34129,)"
      ]
     },
     "execution_count": 37,
     "metadata": {},
     "output_type": "execute_result"
    }
   ],
   "source": [
    "predicted2.shape"
   ]
  },
  {
   "cell_type": "code",
   "execution_count": 38,
   "metadata": {},
   "outputs": [
    {
     "data": {
      "text/plain": [
       "(34129, 12)"
      ]
     },
     "execution_count": 38,
     "metadata": {},
     "output_type": "execute_result"
    }
   ],
   "source": [
    "df.shape"
   ]
  },
  {
   "cell_type": "code",
   "execution_count": 39,
   "metadata": {},
   "outputs": [
    {
     "data": {
      "text/plain": [
       "neutral     18997\n",
       "negative     8117\n",
       "positive     7015\n",
       "Name: Classification for Kaggle, dtype: int64"
      ]
     },
     "execution_count": 39,
     "metadata": {},
     "output_type": "execute_result"
    }
   ],
   "source": [
    "df['Classification for Kaggle'].value_counts()"
   ]
  },
  {
   "cell_type": "code",
   "execution_count": 40,
   "metadata": {},
   "outputs": [
    {
     "data": {
      "text/html": [
       "<div>\n",
       "<style scoped>\n",
       "    .dataframe tbody tr th:only-of-type {\n",
       "        vertical-align: middle;\n",
       "    }\n",
       "\n",
       "    .dataframe tbody tr th {\n",
       "        vertical-align: top;\n",
       "    }\n",
       "\n",
       "    .dataframe thead th {\n",
       "        text-align: right;\n",
       "    }\n",
       "</style>\n",
       "<table border=\"1\" class=\"dataframe\">\n",
       "  <thead>\n",
       "    <tr style=\"text-align: right;\">\n",
       "      <th></th>\n",
       "      <th>Reply</th>\n",
       "      <th>Upvote</th>\n",
       "      <th>Time</th>\n",
       "      <th>Key</th>\n",
       "      <th>vdr neg</th>\n",
       "      <th>vdr neu</th>\n",
       "      <th>vdr pos</th>\n",
       "      <th>vdr compound</th>\n",
       "      <th>TB Classification</th>\n",
       "      <th>TB pos</th>\n",
       "      <th>TB neg</th>\n",
       "      <th>Classification for Kaggle</th>\n",
       "    </tr>\n",
       "  </thead>\n",
       "  <tbody>\n",
       "    <tr>\n",
       "      <th>0</th>\n",
       "      <td>I just did my first purchase from epic , I got...</td>\n",
       "      <td>28.0</td>\n",
       "      <td>2020-05-22 12:37:51</td>\n",
       "      <td>1.0</td>\n",
       "      <td>0.140</td>\n",
       "      <td>0.860</td>\n",
       "      <td>0.000</td>\n",
       "      <td>-0.4168</td>\n",
       "      <td>pos</td>\n",
       "      <td>0.742065</td>\n",
       "      <td>0.257935</td>\n",
       "      <td>neutral</td>\n",
       "    </tr>\n",
       "    <tr>\n",
       "      <th>1</th>\n",
       "      <td>Actually i already bought 3 games on epic : Th...</td>\n",
       "      <td>8.0</td>\n",
       "      <td>2020-05-22 12:45:06</td>\n",
       "      <td>1.0</td>\n",
       "      <td>0.185</td>\n",
       "      <td>0.736</td>\n",
       "      <td>0.079</td>\n",
       "      <td>-0.6369</td>\n",
       "      <td>pos</td>\n",
       "      <td>0.866839</td>\n",
       "      <td>0.133161</td>\n",
       "      <td>neutral</td>\n",
       "    </tr>\n",
       "    <tr>\n",
       "      <th>2</th>\n",
       "      <td>me who got the 80th game for free : )</td>\n",
       "      <td>6.0</td>\n",
       "      <td>2020-05-22 14:11:36</td>\n",
       "      <td>1.0</td>\n",
       "      <td>0.000</td>\n",
       "      <td>0.680</td>\n",
       "      <td>0.320</td>\n",
       "      <td>0.5106</td>\n",
       "      <td>neg</td>\n",
       "      <td>0.497501</td>\n",
       "      <td>0.502499</td>\n",
       "      <td>neutral</td>\n",
       "    </tr>\n",
       "    <tr>\n",
       "      <th>3</th>\n",
       "      <td>I 'm watching the office as I upvote this post</td>\n",
       "      <td>17.0</td>\n",
       "      <td>2020-05-22 10:17:32</td>\n",
       "      <td>1.0</td>\n",
       "      <td>0.000</td>\n",
       "      <td>1.000</td>\n",
       "      <td>0.000</td>\n",
       "      <td>0.0000</td>\n",
       "      <td>neg</td>\n",
       "      <td>0.381604</td>\n",
       "      <td>0.618396</td>\n",
       "      <td>neutral</td>\n",
       "    </tr>\n",
       "    <tr>\n",
       "      <th>4</th>\n",
       "      <td>damn , so true 😂 They earn a lot by showing to...</td>\n",
       "      <td>3.0</td>\n",
       "      <td>2020-05-22 17:11:35</td>\n",
       "      <td>1.0</td>\n",
       "      <td>0.112</td>\n",
       "      <td>0.623</td>\n",
       "      <td>0.265</td>\n",
       "      <td>0.5709</td>\n",
       "      <td>neg</td>\n",
       "      <td>0.210738</td>\n",
       "      <td>0.789262</td>\n",
       "      <td>positive</td>\n",
       "    </tr>\n",
       "    <tr>\n",
       "      <th>5</th>\n",
       "      <td>HAHAHAHA Receipt GANG</td>\n",
       "      <td>2.0</td>\n",
       "      <td>2020-05-22 19:17:19</td>\n",
       "      <td>1.0</td>\n",
       "      <td>0.000</td>\n",
       "      <td>1.000</td>\n",
       "      <td>0.000</td>\n",
       "      <td>0.0000</td>\n",
       "      <td>pos</td>\n",
       "      <td>0.723022</td>\n",
       "      <td>0.276978</td>\n",
       "      <td>positive</td>\n",
       "    </tr>\n",
       "    <tr>\n",
       "      <th>6</th>\n",
       "      <td>I recently found out about Epic Games so I mis...</td>\n",
       "      <td>2.0</td>\n",
       "      <td>2020-05-29 06:43:21</td>\n",
       "      <td>1.0</td>\n",
       "      <td>0.225</td>\n",
       "      <td>0.579</td>\n",
       "      <td>0.196</td>\n",
       "      <td>-0.0171</td>\n",
       "      <td>neg</td>\n",
       "      <td>0.081125</td>\n",
       "      <td>0.918875</td>\n",
       "      <td>positive</td>\n",
       "    </tr>\n",
       "    <tr>\n",
       "      <th>7</th>\n",
       "      <td>Damn . Actually that 's me.😁😁</td>\n",
       "      <td>1.0</td>\n",
       "      <td>2020-05-22 17:04:02</td>\n",
       "      <td>1.0</td>\n",
       "      <td>0.403</td>\n",
       "      <td>0.597</td>\n",
       "      <td>0.000</td>\n",
       "      <td>-0.4019</td>\n",
       "      <td>neg</td>\n",
       "      <td>0.424121</td>\n",
       "      <td>0.575879</td>\n",
       "      <td>negative</td>\n",
       "    </tr>\n",
       "    <tr>\n",
       "      <th>8</th>\n",
       "      <td>i got ac origins ( $ 60 ) for 5 dollars today ...</td>\n",
       "      <td>1.0</td>\n",
       "      <td>2020-05-22 18:51:45</td>\n",
       "      <td>1.0</td>\n",
       "      <td>0.000</td>\n",
       "      <td>0.642</td>\n",
       "      <td>0.358</td>\n",
       "      <td>0.5994</td>\n",
       "      <td>pos</td>\n",
       "      <td>0.706512</td>\n",
       "      <td>0.293488</td>\n",
       "      <td>positive</td>\n",
       "    </tr>\n",
       "    <tr>\n",
       "      <th>9</th>\n",
       "      <td>Lol but true</td>\n",
       "      <td>1.0</td>\n",
       "      <td>2020-06-15 16:42:31</td>\n",
       "      <td>1.0</td>\n",
       "      <td>0.000</td>\n",
       "      <td>0.152</td>\n",
       "      <td>0.848</td>\n",
       "      <td>0.6808</td>\n",
       "      <td>neg</td>\n",
       "      <td>0.212236</td>\n",
       "      <td>0.787764</td>\n",
       "      <td>positive</td>\n",
       "    </tr>\n",
       "  </tbody>\n",
       "</table>\n",
       "</div>"
      ],
      "text/plain": [
       "                                               Reply  Upvote  \\\n",
       "0  I just did my first purchase from epic , I got...    28.0   \n",
       "1  Actually i already bought 3 games on epic : Th...     8.0   \n",
       "2              me who got the 80th game for free : )     6.0   \n",
       "3     I 'm watching the office as I upvote this post    17.0   \n",
       "4  damn , so true 😂 They earn a lot by showing to...     3.0   \n",
       "5                              HAHAHAHA Receipt GANG     2.0   \n",
       "6  I recently found out about Epic Games so I mis...     2.0   \n",
       "7                      Damn . Actually that 's me.😁😁     1.0   \n",
       "8  i got ac origins ( $ 60 ) for 5 dollars today ...     1.0   \n",
       "9                                       Lol but true     1.0   \n",
       "\n",
       "                  Time  Key  vdr neg  vdr neu  vdr pos  vdr compound  \\\n",
       "0  2020-05-22 12:37:51  1.0    0.140    0.860    0.000       -0.4168   \n",
       "1  2020-05-22 12:45:06  1.0    0.185    0.736    0.079       -0.6369   \n",
       "2  2020-05-22 14:11:36  1.0    0.000    0.680    0.320        0.5106   \n",
       "3  2020-05-22 10:17:32  1.0    0.000    1.000    0.000        0.0000   \n",
       "4  2020-05-22 17:11:35  1.0    0.112    0.623    0.265        0.5709   \n",
       "5  2020-05-22 19:17:19  1.0    0.000    1.000    0.000        0.0000   \n",
       "6  2020-05-29 06:43:21  1.0    0.225    0.579    0.196       -0.0171   \n",
       "7  2020-05-22 17:04:02  1.0    0.403    0.597    0.000       -0.4019   \n",
       "8  2020-05-22 18:51:45  1.0    0.000    0.642    0.358        0.5994   \n",
       "9  2020-06-15 16:42:31  1.0    0.000    0.152    0.848        0.6808   \n",
       "\n",
       "  TB Classification    TB pos    TB neg Classification for Kaggle  \n",
       "0               pos  0.742065  0.257935                   neutral  \n",
       "1               pos  0.866839  0.133161                   neutral  \n",
       "2               neg  0.497501  0.502499                   neutral  \n",
       "3               neg  0.381604  0.618396                   neutral  \n",
       "4               neg  0.210738  0.789262                  positive  \n",
       "5               pos  0.723022  0.276978                  positive  \n",
       "6               neg  0.081125  0.918875                  positive  \n",
       "7               neg  0.424121  0.575879                  negative  \n",
       "8               pos  0.706512  0.293488                  positive  \n",
       "9               neg  0.212236  0.787764                  positive  "
      ]
     },
     "execution_count": 40,
     "metadata": {},
     "output_type": "execute_result"
    }
   ],
   "source": [
    "df2.head(10)"
   ]
  },
  {
   "cell_type": "markdown",
   "metadata": {},
   "source": [
    "Using the Textblob package, we can see that the Epic Games Store reddit has a mixed sentiment response on posts. 39% bad sentimes and 61% good sentiment."
   ]
  },
  {
   "cell_type": "markdown",
   "metadata": {},
   "source": [
    "Using our own trained classification module, there seems to be more Negative sentiments compared to Positive ones. 23% Negative response and 21% Positive sentimes. But if we set aside the Neutral Sentimes, this looks like a very mixed sentiment."
   ]
  },
  {
   "cell_type": "code",
   "execution_count": 41,
   "metadata": {},
   "outputs": [
    {
     "data": {
      "text/plain": [
       "neutral     55.662340\n",
       "negative    23.783293\n",
       "positive    20.554367\n",
       "Name: Classification for Kaggle, dtype: float64"
      ]
     },
     "execution_count": 41,
     "metadata": {},
     "output_type": "execute_result"
    }
   ],
   "source": [
    "df['Classification for Kaggle'].value_counts(normalize=True) * 100"
   ]
  },
  {
   "cell_type": "code",
   "execution_count": 42,
   "metadata": {},
   "outputs": [
    {
     "data": {
      "text/plain": [
       "pos    61.906297\n",
       "neg    38.093703\n",
       "Name: TB Classification, dtype: float64"
      ]
     },
     "execution_count": 42,
     "metadata": {},
     "output_type": "execute_result"
    }
   ],
   "source": [
    "df['TB Classification'].value_counts(normalize=True) * 100"
   ]
  },
  {
   "cell_type": "code",
   "execution_count": null,
   "metadata": {},
   "outputs": [],
   "source": []
  },
  {
   "cell_type": "code",
   "execution_count": null,
   "metadata": {},
   "outputs": [],
   "source": []
  }
 ],
 "metadata": {
  "kernelspec": {
   "display_name": "Python 3",
   "language": "python",
   "name": "python3"
  },
  "language_info": {
   "codemirror_mode": {
    "name": "ipython",
    "version": 3
   },
   "file_extension": ".py",
   "mimetype": "text/x-python",
   "name": "python",
   "nbconvert_exporter": "python",
   "pygments_lexer": "ipython3",
   "version": "3.8.5"
  }
 },
 "nbformat": 4,
 "nbformat_minor": 4
}
